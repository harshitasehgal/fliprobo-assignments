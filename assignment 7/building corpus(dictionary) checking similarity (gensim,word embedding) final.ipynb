{
 "cells": [
  {
   "cell_type": "markdown",
   "metadata": {},
   "source": [
    "# taking out data related to mental illness (document)"
   ]
  },
  {
   "cell_type": "code",
   "execution_count": 1,
   "metadata": {},
   "outputs": [],
   "source": [
    "text_corpus = [\"Research suggests that a combination of genetic biological environmental and psychological factors play a role in depression\",\n",
    "              \"Different people have different symptoms,some symptoms of depression include:Persistent sad, anxious, or “empty” Feelings of guilt, worthlessness, or helplessness\",\n",
    "               \"Talk to your health care provider about any side effects that you have. Do not stop taking your antidepressant without first talking to your health care provider\",\n",
    "               \"Psychotherapy helps by teaching new ways of thinking and behaving, and changing habits that may be contributing to depression\",\n",
    "               \"Electroconvulsive therapy (ECT) and other brain stimulation therapies may be an option for people with severe depression who do not respond to antidepressant medications\",\n",
    "               \"Call your or your loved one’s health professional\",\n",
    "               \"As you continue treatment you may start to feel better gradually\",\n",
    "              \"Help him or her adhere to the treatment plan such as setting reminders to take prescribed medications\",\n",
    "               \"Women have depression more often than men. Biological lifecycle and hormonal factors that are unique to women may be linked to their higher depression rate\",\n",
    "               \"Men with depression are more likely to be very tired irritable and sometimes angry. They may lose interest in work or activities they once enjoyed, have sleep problems, and behave recklessly and fail to seek help\",\n",
    "               \"Older adults with depression may have less obvious symptoms, or they may be less likely to admit to feelings of sadness or grief\",\n",
    "               \"Younger children with depression may pretend to be sick, refuse to go to school cling to a parent or worry that a parent may die\",\n",
    "               \"Older children and teens with depression may get into trouble at school  and be irritable. Teens with depression may have symptoms of other disorders such as anxiety eating disorders  or substance abuse\",\n",
    "               \"Once diagnosed, depression can be treated with medications psychotherapy or a combination of the two\",\n",
    "               \"Offer support, understanding patience, and encouragement\",\n",
    "               \"Sadness makes up part of the various definitions of the depressive syndrome even if its presence is not required for diagnosis\"\n",
    " \"Never ignore comments about suicide and report them to your loved one’s health care provider or therapist\",\n",
    "              \"Distinguishing between them can help people get the help and support or treatment they need\",\n",
    "              \"Anxiety disorders are the most common of mental disorders\",]\n",
    "              \n"
   ]
  },
  {
   "cell_type": "code",
   "execution_count": 2,
   "metadata": {},
   "outputs": [],
   "source": [
    "import pprint"
   ]
  },
  {
   "cell_type": "code",
   "execution_count": 4,
   "metadata": {},
   "outputs": [],
   "source": [
    "import nltk\n",
    "import re\n",
    "import string"
   ]
  },
  {
   "cell_type": "markdown",
   "metadata": {},
   "source": [
    "# Creating dictionary and modifiying my stoplist according to my data"
   ]
  },
  {
   "cell_type": "code",
   "execution_count": 5,
   "metadata": {},
   "outputs": [
    {
     "name": "stdout",
     "output_type": "stream",
     "text": [
      "[['combination', 'biological', 'factors', 'depression'],\n",
      " ['different', 'people', 'different', 'symptoms', 'depression', 'feelings'],\n",
      " ['health',\n",
      "  'care',\n",
      "  'provider',\n",
      "  'not',\n",
      "  'antidepressant',\n",
      "  'health',\n",
      "  'care',\n",
      "  'provider'],\n",
      " ['psychotherapy', 'depression'],\n",
      " ['people', 'depression', 'not', 'antidepressant', 'medications'],\n",
      " ['loved', 'health'],\n",
      " ['treatment'],\n",
      " ['help', 'treatment', 'medications'],\n",
      " ['women',\n",
      "  'depression',\n",
      "  'more',\n",
      "  'biological',\n",
      "  'factors',\n",
      "  'women',\n",
      "  'depression'],\n",
      " ['depression', 'more', 'likely', 'help'],\n",
      " ['older', 'depression', 'less', 'less', 'likely', 'feelings', 'sadness'],\n",
      " ['children', 'depression', 'school', 'parent', 'parent'],\n",
      " ['older',\n",
      "  'children',\n",
      "  'teens',\n",
      "  'depression',\n",
      "  'school',\n",
      "  'teens',\n",
      "  'depression',\n",
      "  'symptoms',\n",
      "  'disorders',\n",
      "  'anxiety',\n",
      "  'disorders'],\n",
      " ['depression', 'medications', 'psychotherapy', 'combination'],\n",
      " [],\n",
      " ['sadness', 'not', 'loved', 'health', 'care', 'provider'],\n",
      " ['help', 'people', 'help', 'treatment'],\n",
      " ['anxiety', 'disorders', 'disorders']]\n"
     ]
    }
   ],
   "source": [
    "stoplist = set('about are as do a may one’s  that they or your have once other such you to of in and be with the for get can them'.split(' '))\n",
    "\n",
    "# Lowercase each document, split it by white space and filter out stopwords\n",
    "\n",
    "texts = [[word for word in document.lower().split() if word not in stoplist] \n",
    "         for document in text_corpus]\n",
    "\n",
    "\n",
    "\n",
    "# Count word frequencies\n",
    "from collections import defaultdict\n",
    "\n",
    "frequency = defaultdict(int)\n",
    "\n",
    "for text in texts:\n",
    "    for token in text:\n",
    "        frequency[token] += 1\n",
    "\n",
    "# Only keep words that appear more than once\n",
    "processed_corpus = [[token for token in text if frequency[token] > 1] for text in texts]\n",
    "pprint.pprint(processed_corpus)"
   ]
  },
  {
   "cell_type": "code",
   "execution_count": 6,
   "metadata": {},
   "outputs": [
    {
     "name": "stdout",
     "output_type": "stream",
     "text": [
      "Dictionary(30 unique tokens: ['biological', 'combination', 'depression', 'factors', 'different']...)\n"
     ]
    }
   ],
   "source": [
    "from gensim import corpora\n",
    "\n",
    "dictionary = corpora.Dictionary(processed_corpus)\n",
    "print(dictionary)"
   ]
  },
  {
   "cell_type": "markdown",
   "metadata": {},
   "source": [
    "# we have 30 unique tokens"
   ]
  },
  {
   "cell_type": "code",
   "execution_count": 7,
   "metadata": {},
   "outputs": [
    {
     "name": "stdout",
     "output_type": "stream",
     "text": [
      "{'antidepressant': 8,\n",
      " 'anxiety': 27,\n",
      " 'biological': 0,\n",
      " 'care': 9,\n",
      " 'children': 24,\n",
      " 'combination': 1,\n",
      " 'depression': 2,\n",
      " 'different': 4,\n",
      " 'disorders': 28,\n",
      " 'factors': 3,\n",
      " 'feelings': 5,\n",
      " 'health': 10,\n",
      " 'help': 17,\n",
      " 'less': 21,\n",
      " 'likely': 20,\n",
      " 'loved': 15,\n",
      " 'medications': 14,\n",
      " 'more': 18,\n",
      " 'not': 11,\n",
      " 'older': 22,\n",
      " 'parent': 25,\n",
      " 'people': 6,\n",
      " 'provider': 12,\n",
      " 'psychotherapy': 13,\n",
      " 'sadness': 23,\n",
      " 'school': 26,\n",
      " 'symptoms': 7,\n",
      " 'teens': 29,\n",
      " 'treatment': 16,\n",
      " 'women': 19}\n"
     ]
    }
   ],
   "source": [
    "pprint.pprint(dictionary.token2id)"
   ]
  },
  {
   "cell_type": "code",
   "execution_count": 8,
   "metadata": {},
   "outputs": [
    {
     "name": "stdout",
     "output_type": "stream",
     "text": [
      "[[(0, 1), (1, 1), (2, 1), (3, 1)],\n",
      " [(2, 1), (4, 2), (5, 1), (6, 1), (7, 1)],\n",
      " [(8, 1), (9, 2), (10, 2), (11, 1), (12, 2)],\n",
      " [(2, 1), (13, 1)],\n",
      " [(2, 1), (6, 1), (8, 1), (11, 1), (14, 1)],\n",
      " [(10, 1), (15, 1)],\n",
      " [(16, 1)],\n",
      " [(14, 1), (16, 1), (17, 1)],\n",
      " [(0, 1), (2, 2), (3, 1), (18, 1), (19, 2)],\n",
      " [(2, 1), (17, 1), (18, 1), (20, 1)],\n",
      " [(2, 1), (5, 1), (20, 1), (21, 2), (22, 1), (23, 1)],\n",
      " [(2, 1), (24, 1), (25, 2), (26, 1)],\n",
      " [(2, 2), (7, 1), (22, 1), (24, 1), (26, 1), (27, 1), (28, 2), (29, 2)],\n",
      " [(1, 1), (2, 1), (13, 1), (14, 1)],\n",
      " [],\n",
      " [(9, 1), (10, 1), (11, 1), (12, 1), (15, 1), (23, 1)],\n",
      " [(6, 1), (16, 1), (17, 2)],\n",
      " [(27, 1), (28, 2)]]\n"
     ]
    }
   ],
   "source": [
    "bow_corpus = [dictionary.doc2bow(text) for text in processed_corpus]\n",
    "pprint.pprint(bow_corpus)"
   ]
  },
  {
   "cell_type": "code",
   "execution_count": 9,
   "metadata": {},
   "outputs": [],
   "source": [
    "from gensim.models import Word2Vec"
   ]
  },
  {
   "cell_type": "code",
   "execution_count": 10,
   "metadata": {},
   "outputs": [],
   "source": [
    "model = Word2Vec(processed_corpus, min_count=1)\n",
    "\n",
    "\n",
    "words = model.wv.vocab"
   ]
  },
  {
   "cell_type": "code",
   "execution_count": 12,
   "metadata": {},
   "outputs": [
    {
     "name": "stdout",
     "output_type": "stream",
     "text": [
      "[ 4.0873066e-03  2.7649535e-03  3.1486971e-04 -3.3596132e-03\n",
      "  4.9678320e-03 -1.6106582e-03 -6.6627108e-04 -2.1219831e-03\n",
      "  2.9019322e-03  3.7743731e-03  4.4512348e-03 -2.6596789e-03\n",
      "  4.1816430e-03  2.4639361e-03  4.1261711e-03  2.7103629e-03\n",
      " -3.8586715e-03 -1.7728129e-03  1.9885490e-03 -3.9800750e-03\n",
      "  3.3752953e-03  5.0387310e-04  1.0113572e-03  4.3166592e-03\n",
      "  2.5894078e-03  2.7791120e-03 -5.9480971e-04 -2.3988553e-03\n",
      "  2.6507017e-03 -3.3121085e-04 -1.8780053e-03 -7.7918769e-05\n",
      "  3.4226459e-03  1.2945101e-03  7.4450509e-04  2.1382731e-03\n",
      "  3.2674973e-03  3.0143191e-03 -1.7285206e-03 -2.8449174e-03\n",
      " -5.5323518e-04  9.0387941e-04  2.9767477e-03  2.3588203e-04\n",
      " -4.4345669e-03  1.0004243e-03  6.9367304e-04  2.4477972e-03\n",
      "  1.8176341e-03  3.8751869e-03  4.0800218e-03  4.3981504e-03\n",
      " -3.8588699e-03  3.1946055e-03  1.2870787e-03  4.2896192e-03\n",
      "  1.6203733e-03  3.4315707e-03  4.8752776e-03 -2.5496213e-03\n",
      "  3.7088362e-03  4.8438557e-03  2.1935217e-03  1.9219856e-03\n",
      " -1.6665623e-03  4.6773078e-03 -8.6724682e-04  4.5879213e-03\n",
      " -5.2168005e-04  2.9280446e-03 -2.0789437e-03 -1.1258352e-03\n",
      "  1.4675913e-03 -4.3681348e-03  2.4448994e-03  3.4876708e-03\n",
      "  1.7744132e-03 -2.4602092e-03 -1.2498368e-03  3.5955415e-03\n",
      "  3.4265956e-03  2.9809400e-03  3.6485172e-03  3.6179344e-03\n",
      " -4.2304219e-04  1.6638612e-03 -3.5423522e-03 -4.0273983e-03\n",
      "  3.1047323e-04  1.9478352e-03 -2.6065283e-04 -3.3946843e-03\n",
      "  1.2342568e-03  3.9667785e-03  7.0047600e-04  1.3849767e-03\n",
      " -1.6322501e-03  5.5919850e-04 -8.0258047e-05 -1.8994347e-03]\n"
     ]
    }
   ],
   "source": [
    "vector = model.wv['health']\n",
    "\n",
    "print(vector)"
   ]
  },
  {
   "cell_type": "code",
   "execution_count": null,
   "metadata": {},
   "outputs": [],
   "source": [
    "#let's check similarity among these words"
   ]
  },
  {
   "cell_type": "code",
   "execution_count": 20,
   "metadata": {},
   "outputs": [
    {
     "data": {
      "text/plain": [
       "0.12212704"
      ]
     },
     "execution_count": 20,
     "metadata": {},
     "output_type": "execute_result"
    }
   ],
   "source": [
    "model.wv.similarity(w1='sadness',w2='feelings')\n",
    "#quite similar"
   ]
  },
  {
   "cell_type": "code",
   "execution_count": 21,
   "metadata": {},
   "outputs": [
    {
     "data": {
      "text/plain": [
       "-0.009644438"
      ]
     },
     "execution_count": 21,
     "metadata": {},
     "output_type": "execute_result"
    }
   ],
   "source": [
    "model.wv.similarity(w1='teens',w2='older')\n",
    "#not similar"
   ]
  },
  {
   "cell_type": "code",
   "execution_count": 22,
   "metadata": {},
   "outputs": [
    {
     "data": {
      "text/plain": [
       "0.03944992"
      ]
     },
     "execution_count": 22,
     "metadata": {},
     "output_type": "execute_result"
    }
   ],
   "source": [
    "model.wv.similarity(w1='loved',w2='care')\n",
    "#quite similar"
   ]
  },
  {
   "cell_type": "code",
   "execution_count": 13,
   "metadata": {},
   "outputs": [
    {
     "data": {
      "text/plain": [
       "[('parent', 0.1768890619277954),\n",
       " ('less', 0.14932197332382202),\n",
       " ('provider', 0.1304764598608017),\n",
       " ('more', 0.12600311636924744),\n",
       " ('feelings', 0.09965918958187103)]"
      ]
     },
     "execution_count": 13,
     "metadata": {},
     "output_type": "execute_result"
    }
   ],
   "source": [
    "similar = model.wv.most_similar('children',topn=5)\n",
    "\n",
    "similar\n",
    "#we can see parent is related the most with children"
   ]
  },
  {
   "cell_type": "code",
   "execution_count": 29,
   "metadata": {},
   "outputs": [
    {
     "data": {
      "text/plain": [
       "[('help', 0.1666468381881714),\n",
       " ('psychotherapy', 0.09978431463241577),\n",
       " ('health', 0.08214759826660156),\n",
       " ('school', 0.06346945464611053),\n",
       " ('care', 0.06126336753368378),\n",
       " ('factors', 0.037611477077007294),\n",
       " ('parent', 0.02739354409277439),\n",
       " ('older', 0.009381450712680817),\n",
       " ('women', 0.004310838878154755),\n",
       " ('depression', 0.0025748275220394135)]"
      ]
     },
     "execution_count": 29,
     "metadata": {},
     "output_type": "execute_result"
    }
   ],
   "source": [
    "similar = model.wv.most_similar('disorders',topn=10)\n",
    "\n",
    "similar\n",
    "#let's see top 10  similar words for disorders"
   ]
  },
  {
   "cell_type": "code",
   "execution_count": 26,
   "metadata": {},
   "outputs": [
    {
     "data": {
      "text/plain": [
       "[('teens', 0.20906871557235718),\n",
       " ('care', 0.20864924788475037),\n",
       " ('different', 0.13922441005706787),\n",
       " ('sadness', 0.12570586800575256),\n",
       " ('medications', 0.12468249350786209)]"
      ]
     },
     "execution_count": 26,
     "metadata": {},
     "output_type": "execute_result"
    }
   ],
   "source": [
    "similar = model.wv.most_similar('treatment',topn=5)\n",
    "\n",
    "similar\n",
    "#let's see top 5  similar words for disorders\n",
    "#we can see teens is most similar  with treatment ,\n",
    "#but also medications, care are in top 5 which are actualy related to treatment"
   ]
  },
  {
   "cell_type": "code",
   "execution_count": 16,
   "metadata": {},
   "outputs": [
    {
     "name": "stderr",
     "output_type": "stream",
     "text": [
      "C:\\Users\\COMP\\.conda\\envs\\tensorflow\\lib\\site-packages\\gensim\\models\\keyedvectors.py:877: FutureWarning: arrays to stack must be passed as a \"sequence\" type such as list or tuple. Support for non-sequence iterables such as generators is deprecated as of NumPy 1.16 and will raise an error in the future.\n",
      "  vectors = vstack(self.word_vec(word, use_norm=True) for word in used_words).astype(REAL)\n"
     ]
    },
    {
     "data": {
      "text/plain": [
       "'less'"
      ]
     },
     "execution_count": 16,
     "metadata": {},
     "output_type": "execute_result"
    }
   ],
   "source": [
    "model.wv.doesnt_match([\"more\",\"less\",\"loved\"])\n",
    "#less does'nt match with more and loved"
   ]
  },
  {
   "cell_type": "code",
   "execution_count": 17,
   "metadata": {},
   "outputs": [],
   "source": [
    "import matplotlib.pyplot as plt\n",
    "%matplotlib inline"
   ]
  },
  {
   "cell_type": "markdown",
   "metadata": {},
   "source": [
    "# plotting graph for 20 words(unique tokens) from the dictionary and analysing similarity among them"
   ]
  },
  {
   "cell_type": "code",
   "execution_count": 18,
   "metadata": {},
   "outputs": [
    {
     "name": "stderr",
     "output_type": "stream",
     "text": [
      "C:\\Users\\COMP\\.conda\\envs\\tensorflow\\lib\\site-packages\\ipykernel_launcher.py:10: DeprecationWarning: Call to deprecated `__getitem__` (Method will be removed in 4.0.0, use self.wv.__getitem__() instead).\n",
      "  # Remove the CWD from sys.path while we load stuff.\n"
     ]
    },
    {
     "data": {
      "image/png": "[encoded data removed]",
      "text/plain": [
       "<Figure size 1080x576 with 1 Axes>"
      ]
     },
     "metadata": {
      "needs_background": "light"
     },
     "output_type": "display_data"
    }
   ],
   "source": [
    "from sklearn.manifold import  TSNE\n",
    "vocab = ['biological', 'older', 'depression', \n",
    "         'factors', 'disorders','care','children','teens','parent','women',\n",
    "         'antidepressant','anxiety','health','less','sadness','loved','medications','school','psychotherapy','treatment']\n",
    "def tsne_plot(model):\n",
    "    labels = []\n",
    "    wordvecs = []\n",
    "\n",
    "    for word in vocab:\n",
    "        wordvecs.append(model[word])\n",
    "        labels.append(word)\n",
    "    \n",
    "    tsne_model = TSNE(perplexity=15, n_components=3, init='pca', random_state=32)\n",
    "    coordinates = tsne_model.fit_transform(wordvecs)\n",
    "\n",
    "    x = []\n",
    "    y = []\n",
    "    for value in coordinates:\n",
    "        x.append(value[0])\n",
    "        y.append(value[1])\n",
    "        \n",
    "    plt.figure(figsize=(15,8)) \n",
    "    for i in range(len(x)):\n",
    "        plt.scatter(x[i],y[i])\n",
    "        plt.annotate(labels[i],\n",
    "                     xy=(x[i], y[i]),\n",
    "                     xytext=(2, 2),\n",
    "                     textcoords='offset points', ha='left')\n",
    "\n",
    "    plt.show()\n",
    "\n",
    "tsne_plot(model)\n",
    "#we can see sadness,disorders are very close,\n",
    "#antidepressant,pyschotherapy are close(as they both help as a solution to depression)\n",
    "#medications and treatment are close\n",
    "#women parent are close"
   ]
  },
  {
   "cell_type": "code",
   "execution_count": null,
   "metadata": {},
   "outputs": [],
   "source": []
  }
 ],
 "metadata": {
  "kernelspec": {
   "display_name": "Python 3",
   "language": "python",
   "name": "python3"
  },
  "language_info": {
   "codemirror_mode": {
    "name": "ipython",
    "version": 3
   },
   "file_extension": ".py",
   "mimetype": "text/x-python",
   "name": "python",
   "nbconvert_exporter": "python",
   "pygments_lexer": "ipython3",
   "version": "3.7.7"
  }
 },
 "nbformat": 4,
 "nbformat_minor": 4
}
