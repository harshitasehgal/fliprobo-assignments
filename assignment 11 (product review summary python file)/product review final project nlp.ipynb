{
 "cells": [
  {
   "cell_type": "code",
   "execution_count": 1,
   "metadata": {},
   "outputs": [],
   "source": [
    "import pandas as pd\n",
    "df=pd.read_json(r'Cell_phones_and_Accessories.json')"
   ]
  },
  {
   "cell_type": "code",
   "execution_count": 2,
   "metadata": {},
   "outputs": [
    {
     "data": {
      "text/html": [
       "<div>\n",
       "<style scoped>\n",
       "    .dataframe tbody tr th:only-of-type {\n",
       "        vertical-align: middle;\n",
       "    }\n",
       "\n",
       "    .dataframe tbody tr th {\n",
       "        vertical-align: top;\n",
       "    }\n",
       "\n",
       "    .dataframe thead th {\n",
       "        text-align: right;\n",
       "    }\n",
       "</style>\n",
       "<table border=\"1\" class=\"dataframe\">\n",
       "  <thead>\n",
       "    <tr style=\"text-align: right;\">\n",
       "      <th></th>\n",
       "      <th>Rating</th>\n",
       "      <th>Rev_verify</th>\n",
       "      <th>Review_Date</th>\n",
       "      <th>IC</th>\n",
       "      <th>Prod_meta</th>\n",
       "      <th>Reviewer_Name</th>\n",
       "      <th>Review</th>\n",
       "      <th>Rev_summ</th>\n",
       "      <th>Review_timestamp</th>\n",
       "      <th>Useful</th>\n",
       "      <th>Prod_img</th>\n",
       "    </tr>\n",
       "  </thead>\n",
       "  <tbody>\n",
       "    <tr>\n",
       "      <th>0</th>\n",
       "      <td>5</td>\n",
       "      <td>True</td>\n",
       "      <td>09 1, 2015</td>\n",
       "      <td>B009XD5TPQ</td>\n",
       "      <td>None</td>\n",
       "      <td>Sunny  Zoeller</td>\n",
       "      <td>Bought it for my husband. He's very happy with it</td>\n",
       "      <td>He's very happy with</td>\n",
       "      <td>1441065600</td>\n",
       "      <td>None</td>\n",
       "      <td>None</td>\n",
       "    </tr>\n",
       "    <tr>\n",
       "      <th>1</th>\n",
       "      <td>5</td>\n",
       "      <td>True</td>\n",
       "      <td>01 9, 2016</td>\n",
       "      <td>B016MF3P3K</td>\n",
       "      <td>None</td>\n",
       "      <td>Denise Lesley</td>\n",
       "      <td>Great screen protector.  Doesn't even seem as ...</td>\n",
       "      <td>Five Stars</td>\n",
       "      <td>1452297600</td>\n",
       "      <td>None</td>\n",
       "      <td>None</td>\n",
       "    </tr>\n",
       "    <tr>\n",
       "      <th>2</th>\n",
       "      <td>5</td>\n",
       "      <td>True</td>\n",
       "      <td>04 21, 2013</td>\n",
       "      <td>B008DC8N5G</td>\n",
       "      <td>None</td>\n",
       "      <td>Emir</td>\n",
       "      <td>Saved me lots of money! it's not gorilla glass...</td>\n",
       "      <td>As long as you know how to put it on!</td>\n",
       "      <td>1366502400</td>\n",
       "      <td>None</td>\n",
       "      <td>None</td>\n",
       "    </tr>\n",
       "    <tr>\n",
       "      <th>3</th>\n",
       "      <td>3</td>\n",
       "      <td>True</td>\n",
       "      <td>02 27, 2013</td>\n",
       "      <td>B0089CH3TM</td>\n",
       "      <td>{'Color:': ' Green'}</td>\n",
       "      <td>Alyse</td>\n",
       "      <td>The material and fit is very nice, but the col...</td>\n",
       "      <td>Good case overall</td>\n",
       "      <td>1361923200</td>\n",
       "      <td>3</td>\n",
       "      <td>None</td>\n",
       "    </tr>\n",
       "    <tr>\n",
       "      <th>4</th>\n",
       "      <td>4</td>\n",
       "      <td>True</td>\n",
       "      <td>12 19, 2013</td>\n",
       "      <td>B00AKZWGAC</td>\n",
       "      <td>None</td>\n",
       "      <td>TechGuy</td>\n",
       "      <td>This last me about 3 days till i have to charg...</td>\n",
       "      <td>Awesome Battery</td>\n",
       "      <td>1387411200</td>\n",
       "      <td>None</td>\n",
       "      <td>None</td>\n",
       "    </tr>\n",
       "  </tbody>\n",
       "</table>\n",
       "</div>"
      ],
      "text/plain": [
       "   Rating  Rev_verify  Review_Date          IC             Prod_meta  \\\n",
       "0       5        True   09 1, 2015  B009XD5TPQ                  None   \n",
       "1       5        True   01 9, 2016  B016MF3P3K                  None   \n",
       "2       5        True  04 21, 2013  B008DC8N5G                  None   \n",
       "3       3        True  02 27, 2013  B0089CH3TM  {'Color:': ' Green'}   \n",
       "4       4        True  12 19, 2013  B00AKZWGAC                  None   \n",
       "\n",
       "    Reviewer_Name                                             Review  \\\n",
       "0  Sunny  Zoeller  Bought it for my husband. He's very happy with it   \n",
       "1   Denise Lesley  Great screen protector.  Doesn't even seem as ...   \n",
       "2            Emir  Saved me lots of money! it's not gorilla glass...   \n",
       "3           Alyse  The material and fit is very nice, but the col...   \n",
       "4         TechGuy  This last me about 3 days till i have to charg...   \n",
       "\n",
       "                                Rev_summ  Review_timestamp Useful Prod_img  \n",
       "0                   He's very happy with        1441065600   None     None  \n",
       "1                             Five Stars        1452297600   None     None  \n",
       "2  As long as you know how to put it on!        1366502400   None     None  \n",
       "3                      Good case overall        1361923200      3     None  \n",
       "4                        Awesome Battery        1387411200   None     None  "
      ]
     },
     "execution_count": 2,
     "metadata": {},
     "output_type": "execute_result"
    }
   ],
   "source": [
    "df.head()"
   ]
  },
  {
   "cell_type": "code",
   "execution_count": 3,
   "metadata": {},
   "outputs": [
    {
     "data": {
      "text/plain": [
       "(760450, 11)"
      ]
     },
     "execution_count": 3,
     "metadata": {},
     "output_type": "execute_result"
    }
   ],
   "source": [
    "df.shape"
   ]
  },
  {
   "cell_type": "code",
   "execution_count": 4,
   "metadata": {},
   "outputs": [
    {
     "data": {
      "text/plain": [
       "Rating                   0\n",
       "Rev_verify               0\n",
       "Review_Date              0\n",
       "IC                       0\n",
       "Prod_meta           352624\n",
       "Reviewer_Name           91\n",
       "Review                 530\n",
       "Rev_summ               355\n",
       "Review_timestamp         0\n",
       "Useful              698250\n",
       "Prod_img            742256\n",
       "dtype: int64"
      ]
     },
     "execution_count": 4,
     "metadata": {},
     "output_type": "execute_result"
    }
   ],
   "source": [
    "df.isnull().sum()"
   ]
  },
  {
   "cell_type": "code",
   "execution_count": 5,
   "metadata": {},
   "outputs": [
    {
     "data": {
      "text/plain": [
       "(760450,)"
      ]
     },
     "execution_count": 5,
     "metadata": {},
     "output_type": "execute_result"
    }
   ],
   "source": [
    "#for now let's consider only review column and IC column(that is the item code)\n",
    "df['Review'].shape\n",
    "\n"
   ]
  },
  {
   "cell_type": "code",
   "execution_count": 6,
   "metadata": {},
   "outputs": [
    {
     "data": {
      "text/plain": [
       "(760450,)"
      ]
     },
     "execution_count": 6,
     "metadata": {},
     "output_type": "execute_result"
    }
   ],
   "source": [
    "df['IC'].shape"
   ]
  },
  {
   "cell_type": "code",
   "execution_count": 7,
   "metadata": {},
   "outputs": [
    {
     "data": {
      "text/plain": [
       "0          49.0\n",
       "1          66.0\n",
       "2         285.0\n",
       "3         109.0\n",
       "4         468.0\n",
       "          ...  \n",
       "760445      9.0\n",
       "760446    365.0\n",
       "760447     70.0\n",
       "760448      5.0\n",
       "760449     51.0\n",
       "Name: Review, Length: 760450, dtype: float64"
      ]
     },
     "execution_count": 7,
     "metadata": {},
     "output_type": "execute_result"
    }
   ],
   "source": [
    "df.Review.str.len()\n"
   ]
  },
  {
   "cell_type": "code",
   "execution_count": 8,
   "metadata": {},
   "outputs": [
    {
     "data": {
      "text/plain": [
       "48134"
      ]
     },
     "execution_count": 8,
     "metadata": {},
     "output_type": "execute_result"
    }
   ],
   "source": [
    "df.IC.nunique()\n",
    "#we observe that ITEM CODE has 48,134 unique values out of 76,050 values also no null values are present "
   ]
  },
  {
   "cell_type": "markdown",
   "metadata": {},
   "source": [
    "# let us combine the IC column and review column in such a way that corresponding to every unique IC we have all the review for that particular product I will use groupby function for the same."
   ]
  },
  {
   "cell_type": "code",
   "execution_count": 10,
   "metadata": {},
   "outputs": [],
   "source": [
    "#but the review column has 530 null values present,I will firstly drop the null values\n",
    "df.dropna(subset=['Review'], inplace=True)"
   ]
  },
  {
   "cell_type": "code",
   "execution_count": 11,
   "metadata": {},
   "outputs": [
    {
     "data": {
      "text/plain": [
       "48133"
      ]
     },
     "execution_count": 11,
     "metadata": {},
     "output_type": "execute_result"
    }
   ],
   "source": [
    "df['IC'].nunique()"
   ]
  },
  {
   "cell_type": "markdown",
   "metadata": {},
   "source": [
    "# we can observe from 76000 columns we have now 48133 unique item codes "
   ]
  },
  {
   "cell_type": "code",
   "execution_count": 12,
   "metadata": {},
   "outputs": [
    {
     "name": "stdout",
     "output_type": "stream",
     "text": [
      "               IC                                             Review\n",
      "0      7508492919  It is such a good case for a low price. I have...\n",
      "1      7532385086  I was very excited when I first got this case....\n",
      "2      7887421268  Good item////Received this in about a weeks ti...\n",
      "3      8199900164  thank you.////Works some of the time.  The cha...\n",
      "4      8288853439  Great ! So far.\\nI had this charger before and...\n",
      "...           ...                                                ...\n",
      "48128  B01HJBS5C2  Strong, protective but slim and light. I am al...\n",
      "48129  B01HJC7N4C  my sons likes it. For the price it isn't too b...\n",
      "48130  B01HJCN1UC  great thanks////good cable. just be sure to kn...\n",
      "48131  B01HJCN55I  Received the cable in two days and it's the be...\n",
      "48132  B01HJH9IN6  Just received it and it's VERY thin. No need t...\n",
      "\n",
      "[48133 rows x 2 columns]\n"
     ]
    }
   ],
   "source": [
    "df = df.groupby('IC').agg({'Review': '////'.join}).reset_index()\n",
    "print(df[['IC','Review']])"
   ]
  },
  {
   "cell_type": "markdown",
   "metadata": {},
   "source": [
    "# now these //// denotes the multiple reviews like when one review end than //// denotes the other review ,let's have a look "
   ]
  },
  {
   "cell_type": "code",
   "execution_count": 14,
   "metadata": {},
   "outputs": [
    {
     "data": {
      "text/plain": [
       "\"Good item////Received this in about a weeks time. Very nice actually considering how cheap the price was. It's a pink/purple with black leopard spots and has a very nice feel to it. I haven't tried to remove it yet, but hopefully it won't give me any trouble when I do want to change covers.////Good product, good price, fast shipping////I loved the case when I first received it but shortly after, the case started to peel off at first i did not know what it was until i looked on the back of the case and it was missing spots. Guess sometimes a good deal is not really a good deal.would not purchase.////this is a great product, product shipped extreamly fast, no problems or defects with product, recommended buy for anyone. A+////my daughter liked it for a few days and then i didn't see it anymore on the phone. Use your judgement on that one.////Very nice case and color too, only that the material is weak and soon broke.\\n\\nThank you very much////This case is afordable and yes it peels very easy but thats to be expected because its a dollor. I bought mine from Electromaster. It snaps on fine for me but if I were to drop my phone the phone would be fine but the case would surely be done for. its only a dollar so do not get your hopes up. it looks great but its for show not for protection. if you want your phone to be protected go the extra mile for an outter box////Sent case that didn't fit////phone case does not work. the clips may be broken, it does not work. the case is a little scratch and missing paint. it fits my phone but does not stay clipped!////Didn't fit my phone.////The color is more dark in person, and this isn't the best protection case. I get a lot of compliments on the case, and it was easy to put on.////Simple to install and a great way to help protect your phone.\\nMy wife really liked the ability to change the look of her phone.\""
      ]
     },
     "execution_count": 14,
     "metadata": {},
     "output_type": "execute_result"
    }
   ],
   "source": [
    "df['Review'][2]\n",
    "# so here //// this denotes beginning of another review ,so we can see that for IC 7887421268 we have 10 multiple reviews which are now grouped under one head only."
   ]
  },
  {
   "cell_type": "code",
   "execution_count": 15,
   "metadata": {},
   "outputs": [
    {
     "data": {
      "text/plain": [
       "'My husband loves it! Covers the phone perfectly.////This soft gel phone case for my Iphone is perfect. All the button and open spces fit my iphone perfectly. I love the color! And best of all I get protection for my phone and not the bulk from other cases.////The Amzer Gel TPU cover provides just the right amount protection, size, looks, feel and price.\\n\\nUpon receiving my iPhone, I ordered a dozen different (cost-effective) covers including: Decals for the front and back, ultra-thin covers, gel-type covers...and the bulky Otterbox (commuter).\\n\\nAfter a few weeks of switching them back and forth, I\\'ve decided I prefer the unobtrusive size of the Amzer, which I feel provides just enough protection for minor abuses. I like the feel of it. I like the price of it. .. there are a few colors. I started with a few of the brighter ones but ordered this grey one.... yesterday! ~ Thanks seller, for another amazing delivery.\\n\\nI haven\\'t read the 1-star ratings but I\\'m fairly picky about things and I can\\'t see how you can go wrong with this one.\\nThis cover comes all the way around to the front side... just up to the LCD. It\\'s one of the few that doesn\\'t interfere with my screensaver sticker. I\\'ve been taking this Amzer cover on and off, also just pulling back the corner to get a larger headphone jack in.. it goes back into place and, thankfully, hasn\\'t lifted the edge of my screen protector once.\\nAt first I bought whatever color was most affordable, but I eventually came back for this subdued gray ... It\\'s translucence allows the rear decal on my phone to just show through.\\nVery please for price. Great cover.////Does the job at a reasonable price.////Fits great, feels comfy, looks good, cant ask for much more.////I really like this case (I got several for my iPhone 5, and this is the one I actually use).  What I like about it includes:\\n\\n1) the case is soft enough so that it has a little traction on surfaces - it doesn\\'t slide off of the dashboard of my car\\n2) it is very thin - thinner than any other case I\\'ve seen\\n3) it provides protection against drops - the soft plastic (TPU?) absorbs the impact, protecting the phone\\n4) I love the transluscent color - mine\\'s red, but several of the other colors look good too\\n5) In addition to being the best case I\\'ve found (and I have four others), it\\'s a bargain\\n6) It has good tactile feel - some other plastics feel unpleasant, but this feels fine////Good case for good price.////I had to cut away some of the plastic at the bottom of the case to allow the 30-pin to lightning adapter to fit - I imagine this would be the case with most products designed to encase the sides and bottom of the iPhone. It offers decent protection (while collecting a ton of dust at the edges!)////works great!////Not very comfortable, too slippery. NO, I did NOT receive this product for free or at a discount; that\\'s what makes an honest review, not those \"unbiased review after receiving free crap\".////Photos of this case are deceptive. The case is much more transparent/translucent than the product seller photos convey. I was expecting an opaque case, and this isn\\'t even close. Fortunately, the case was a present, and the recipient was very happy with it.\\n\\nFit, Function, and quality - this case is GREAT. Like all cases I buy, it projects forward of the screen and offers protection if dropped or placed face down on a table. The case has soft edges, and the \"AMZER\" stamp on the back rubs off pretty easily.\\n\\n3/5 stars for the product images not accurately showing how translucent this case is.////fast shipping, solid buy////Style wise, the Amzer Soft Gel TPU Gloss Skin is my FD favorite to date. The fit is unparalleled and the recessed volume rocker and power button beg to be pressed. The case is very low profile, adds virtually no weight to the phone and has a very grippy feel. I read several reviews that talked about the case being too tight and all I say to that is \"balderdash!\". This case does fits tighter than any other case I\\'ve tried, but that is what I like about it. There is no chance of scratching or damaging your phone, unless you are a brute. The only negative I have on the Amzer is that it appears to be more prone to smudges and scratches than I would like, but then again it may not be advisable to flyin the face of such TPU beauty. :-)\\n\\nBuy It!////Quick delivery and was as described.  I bought this for my dad and I haven\\'t heard any complaints about it, so I\\'m assuming that he likes it.  Great seller!////Met all our expectations.  Got them in various different colors.  No weird hitches or odors.  No regrets.  Passed my daughters it has to be cool Dad requirements.////Very good.////Bought this for my wife, she love it////Liked as long as I had the phone which was 2 weeks these are nice to have as they are protective as well as in expensive////Fits well and can take a beating. Ihave it over two years and my phone is well protected for little money. Can\\'t go wrong with this purchase.////Some may like it.  I think it is way too tight on the 5s.////I was expecting a much darker case.  The case is pretty shear and the color much lighter than pictured.  I have just gotten my new phone for Christmas and have not used the cover yet, but I do have concerns that it will not protect the glass face of my iphone 5s.  Will probably use it briefly until I can get a more substantial case.  Don\\'t want to take the risk of damage.////This is probably the best iPhone 5 case out there. Its not bulky and it fits real nice. Has a nice hard plastic feel to it. Very sturdy. Covers the entire phone. A must buy if you want a good iPhone 5 case.!!////I ordered several cases for my iPhone 5 and this was the first one to arrive. It\\'s very sturdy and all the openings are in the right places. The volume buttons and on/off are covered, but the mute switch is bare. All in all a great cover. However...that logo on the back is as obnoxious as it looks in the picture. I hoped it was a mockup in the photo and not really that gaudy, but it is indeed that goofy looking. Shrink the logo and its a five star case.////When you see the price you\\'re likely to think you need something more expensive and you would be wrong. This is nice and thin, but has a big enough lip to protect from the \"flat drop.\" You don\\'t need big and bulky, unless you want to armor your phone up with an otter box. I bought three of these and change the color around.////This is a nice looking case that is very suitable for protecting the iphone 5. All you need is a front face protector and your phone will stay pristine. The phone operates just as well with the cover on as it does with it off. It\\'s a great product and a great price.////This case is purple and as described in TEXT it is translucent (although more a pink than purple). While I acknowledge that the description describes it as a purple the picture is completely misleading as it makes the case look like a deep, rich, purplee and frankly makes it look like it is solid, but it is a VERY see-through \"pink\" ish color that does look a bit cheap as a case. With that said, the feel and fit of this case is very nice and if you do not mind it being translucent and not exactly the color advertised its a good case.////this is a great lightweight cover for those of us who can\\'t stand the big, clumsy \\'OtterBox\\' covers. This cover is made of a rubber polymer - so it doesn\\'t slide all over the place when you place it onto a hard surface. The only drawback, as with many of these new products, is that they rushed to get it out quickly, upon the release of the iphone 5. Although the cutouts all around line up well, they didn\\'t take into consideration that, along the bottom, one might use the new \\'30 pin adapter\\' - which needs to plug into the bottom of the phone. So, at this point, you either have to remove the cover altogether to allow for this, or you can just cut it on the bottom, as I did.////for only $7.95 this is a great buy! fits my iphone5 perfect. bright colorway on my white iphone... openings to access points are optimal. great case for the price!////Good Product////great quality////It is thick enough to provide protection, yet thin enough to fit in holsters & pockets.  I got the orange so I can find it easier on my dark furniture.////Great fit. Covers the edges and wraps around to reach the tempered glass screen protector I purchased also. Helps with grip and looks decent. Adds almost no bulk to the iPhone. I haven\\'t dropped my iPhone yet so I really can\\'t tell how well it will protect it. Based on how it seems it looks like it SHOULD be able to handle a minor drop off the bed or something of that nature.////fits good, pliable rubber case will protect your iPhone from scratches on the edges and back.////I had gotten accustom to my gel cover on my iPhone 3GS and wanted the same type of feel for my new iPhone 5.  Couldn\\'t find what I wanted locally so ordered this cover.  It does not have the soft spongy feel I had grown to love but I can get use to this firmer feel.  Love the red color.////Fits perfectly! and shipping was SO fast!\\nIt is a brighter red and more see through but the cover is by far my favorite.\\nI\\'ve never had a case fit so snug and perfect. I love it!////Perfect fit! All cutouts line up perfectly with buttons and plugs. Great material, not too soft yet not hard plastic that will break. Easy to take on and off. Hardly makes the phone any larger but protects the edges from getting all beat up. Around 8? That\\'s a steal!////Fits my iPhone 5 great and although it\\'s not super protective, I dropped it out of my car and not a scratch on it. It\\'s not hard plastic, it\\'s a moveable softer plastic but it slides in and out of your pocket smoothly like hard plastic. Only complaint is I wrote on a cold water bottle with a sharpie and touched it before it dried and then grabbed my phone not knowing I had sharpie on my hand and it got on my pink cover and stained it. I\\'ve tried everything to scrub it off, even comet, and it won\\'t come off.////I actually like the color its more of a pinkish purple color than the color shown. I just don\\'t think its worth $10. I got one of similar quality for $3 it is just a different brand.////My only beef with this is that it fits a wee bit too tightly. It has the company logo on the back in WHITE (not black like the picture). BUT this wasn\\'t an issue as it wore off in 48 hours. The case is holding up well and protecting my iPhone5.////Great case for my phone! Like the slim design to it and the texture of the case gives it a great grip. I have dropped my phone a couple of times and the case has done a great job of protecting it.'"
      ]
     },
     "execution_count": 15,
     "metadata": {},
     "output_type": "execute_result"
    }
   ],
   "source": [
    "df['Review'][7000]"
   ]
  },
  {
   "cell_type": "markdown",
   "metadata": {},
   "source": [
    "# now let's move ahead with data cleaning,numbers are present like 48 hours ,also words are present in upper case"
   ]
  },
  {
   "cell_type": "code",
   "execution_count": 17,
   "metadata": {},
   "outputs": [],
   "source": [
    "from nltk.tokenize import word_tokenize\n",
    "import string\n",
    "import nltk\n",
    "\n",
    "import nltk.corpus\n",
    "import string\n",
    "from nltk.corpus import stopwords\n",
    "\n",
    "\n",
    "stop_words = set(stopwords.words('english') + ['d','s','ive','ü','ur','4','2','im','dont','doin','ure','i','and','ill','ive','lol','on','us','would','one','also'])\n",
    "\n",
    "from nltk.tokenize import word_tokenize\n",
    "import string\n",
    "import nltk\n",
    "\n",
    "import nltk.corpus\n",
    "import string\n",
    "from nltk.corpus import stopwords\n",
    "\n",
    "\n",
    "\n",
    "df['Review'] = df['Review'].str.lower()\n",
    "df[\"Review\"] = df[\"Review\"].str.replace(\",\",\"\").astype(str)\n",
    "df[\"Review\"] = df[\"Review\"].str.replace(\"////\",\" \").astype(str)\n",
    "df[\"Review\"] = df[\"Review\"].str.replace(\":\",\"\").astype(str)\n",
    "df[\"Review\"] = df[\"Review\"].str.replace(\"'\",\"\").astype(str)\n",
    "df[\"Review\"] = df[\"Review\"].str.replace(\"!\",\"\").astype(str)\n",
    "df[\"Review\"] = df[\"Review\"].str.replace(\"\\\\\",\"\").astype(str)\n",
    "df[\"Review\"] = df[\"Review\"].str.replace(\".\",\"\").astype(str)\n",
    "df[\"Review\"] = df[\"Review\"].str.replace(\";\",\"\").astype(str)\n",
    "df[\"Review\"] = df[\"Review\"].str.replace(\")\",\"\").astype(str)\n",
    "df[\"Review\"] = df[\"Review\"].str.replace(\"(\",\"\").astype(str)\n",
    "df[\"Review\"] = df[\"Review\"].str.replace(\"?\",\"\").astype(str)\n",
    "df[\"Review\"] = df[\"Review\"].str.replace(\"%\",\"\").astype(str)\n",
    "df[\"Review\"] = df[\"Review\"].str.replace(\"-\",\"\").astype(str)\n",
    "df[\"Review\"] = df[\"Review\"].str.replace(\"+\",\"\").astype(str)\n",
    "df[\"Review\"] = df[\"Review\"].str.replace(\"=\",\"\").astype(str)\n",
    "df[\"Review\"] = df[\"Review\"].str.replace(\"$\",\"\").astype(str)\n",
    "df[\"Review\"] = df[\"Review\"].str.replace(\"@\",\"\").astype(str)\n",
    "df[\"Review\"] = df[\"Review\"].str.replace(\"*\",\"\").astype(str)\n",
    "df[\"Review\"] = df[\"Review\"].str.replace(\"#\",\"\").astype(str)\n",
    "\n",
    "df[\"Review\"] = df[\"Review\"].str.replace(\"/\",\"\").astype(str)\n",
    "\n"
   ]
  },
  {
   "cell_type": "code",
   "execution_count": 18,
   "metadata": {},
   "outputs": [],
   "source": [
    "#let's have a look at some of the review now"
   ]
  },
  {
   "cell_type": "code",
   "execution_count": 19,
   "metadata": {},
   "outputs": [
    {
     "data": {
      "text/plain": [
       "'nice case but print started to fade and peel after a few uses i bought several of these for my wife and she has had fun changing them every few weeks they fit the phone well and do a good job protecting it even though our kids use the phone the graphics sometimes show a little wear after a couple months of use but for the price i am quite happy with them this is actually the second case ive bought  i got one just in case i ever break the other so i dont have to search around  my phone has taken a few minor falls and this case has done its job no damages to my phone  i like this particular design because its classy complementing the evo lte  its slim so it doesnt make the phone larger than it already is  it provides better grip than just holding the phone caseless  its easy to put on  a little more challenging to remove but you dont want a case that is falling off  with evo lte having no battery access its not often that i need to remove the case  its got all the proper cutouts to accommodate any of the buttons and plugin spots htc phones are awesome fast delivery great price good case'"
      ]
     },
     "execution_count": 19,
     "metadata": {},
     "output_type": "execute_result"
    }
   ],
   "source": [
    "df['Review'][8]"
   ]
  },
  {
   "cell_type": "code",
   "execution_count": 20,
   "metadata": {},
   "outputs": [],
   "source": [
    "#let's apply lemmatisation and remove unncessary words\n",
    "stop_words = set(stopwords.words('english') + ['lol','ü','ur','4','2','im','dont','doin','ure','i','and','on','us','would','apple-iss','one','also','c','e'])\n",
    "punct =string.punctuation \n",
    "\n",
    "df['Review'] = df['Review'].apply(lambda x: ' '.join(\n",
    "    term for term in x.split() if term not in stop_words))\n",
    "df['Review'] = df['Review'].str.replace(r'^http\\://[a-zA-Z0-9\\-\\.]+\\.[a-zA-Z]{2,3}(/\\S*)?$',\n",
    "                                  '  ')\n",
    "df['Review'] = df['Review'].str.replace(r'^www\\://[a-zA-Z0-9\\-\\.]+\\.[a-zA-Z]{2,3}(/\\S*)?$',\n",
    "                                  '  ')\n",
    "df['Review'] = df['Review'].apply(lambda x: ' '.join(\n",
    "    term for term in x.split() if term not in punct))\n",
    "df['Review'] = df['Review'].str.replace(r'\\d+(\\.\\d+)?', ' ')\n",
    "#some reviews have html tags like div class etc let's clean that\n",
    "df['Review'] =df['Review'].str.replace(r'(<!--.*?-->|<[^>]*>)','')\n",
    "\n",
    "\n",
    "\n",
    "\n",
    "\n",
    "\n",
    "\n",
    "\n",
    "\n",
    "from nltk.stem import WordNetLemmatizer \n",
    "wordnet_lemmatizer = WordNetLemmatizer() \n",
    "def convert(text):     \n",
    "    lemmatized_text = []     \n",
    "    for i in text.split():         \n",
    "        lemmatized_text.append(str(wordnet_lemmatizer.lemmatize(i,pos=\"v\")))     \n",
    "        return ' '.join(lemmatized_text)  \n",
    "    df['Review'] = df['Review'].apply(lambda x: convert(x)) \n"
   ]
  },
  {
   "cell_type": "code",
   "execution_count": 21,
   "metadata": {},
   "outputs": [
    {
     "data": {
      "text/plain": [
       "'pearl smallest smart phones fun type takes days get used get fast screen nice size many options nice media player support  gb micro sd card behind battery   slow starting takes little get used find shortcuts love phone terrible phone actually bought   pink pearl verizon attractive upgrade   phone excellent form factor fitting hand pocket purse easily think upgrade problems others identified resolved least bluetooth technology concerned left bluetooth turned   left ear bud turned everything worked fine soon turned ear piece became crap shoot could make receive calls fine call ended party end call hungup   chance pink pearl lockup amount button pushing unfreeze unit choice remove battery others already noted means youre driving car truck pull side road get phone working unacceptable second problem foresaw didnt believe impact much compact keyboard bought phone really didnt expect use keyboard much emergency use little know needed respond first email pushed phone nightmare ads say phone qwerty keyboard layout really say qwertylike layout forever hunting right key came suretype feature thats supposed intelligently guess next character word fair technology seem decent job three weeks still gotten used think kept distracting mind dragging away wanted type keys needed press correct letter problem bad enough end tried turn option followed instructions letter software properly deactivate suretype thing couple days trying finally gave took unit back verizon evaluation period expired replaced pearl verizon blackberry   world phone havent yet chance fully explore phone say suretype look ahead feature getting way longer typing problems havent remove battery software problem causing unit lockup need phone pearl probably phone ever need need respond email type urls browser create memos even add lot contacts directly address book look pearl step full size blackberry yet bought pearl ive almost two years cant wait till contract chuck pos recycling box   poor durability easy phones phone month button holds batter cover popped piece plastic tiny spring size toenail clipping somehow fault sort defect didnt fall manufacturers warranty at&t company bought nothing oem manufacturer offered repair   dollars at&t offered sell new phone   got free year contract companies best suggestion buy silicon cover phone hold batter back chrome like paint phone wore within   months using cmon people phone interferes makes buzzing sound really loudly audio device phone ive owned want convenience using usb cable charge laptop pc mute speakers youll sorry greatly interferes car stereos tv speakers pa systems etc   equally disappointed bluetooth headphones option phone pearl doesnt use new technology stereo headphones headphones available phone junk good brand alternative either ive tried every adapter electronics store sell make sure cellular carrier reasonable data plan blackberry at&t \"blackberry data plan\" costs minimum   addition minute plan cannot use blackberry feature without plan doesnt include using blackberry wireless modem costs extra limited much date use go unless youre prepared take second mortgagenot useful personal organizer unless willing spend   month cellphone bill seriously thorn side rather helper bought blackberry ive treo user since treo   owned treos except   recently yesterday switched tmobile acquired blackberry   pearl seller completely satisfied switched carriers sprint service tucson poor best eventhough fix spending   minutes phone conservative estimate fix lasted week two back constantly dropped calls much better phone treos owned wont bore lot subjective jabber instead list strengths small light great bluetooth range performance state art voice commands including dialing easy use setup never cracked manual tmobile representativessupportservice great fairly fast internet well thought design interface veteran mac user able transfer entourage data calendar notes todos addresses without hitch using software included cd syncing snap transfer paired pearl samsung wep  immediately able voice dial using imported addresses amazing macworld expo tomorrow iphone completely satisfied phone ill let apple debug iphone get improvements make finger print proof pearl using blackberry  t tmobile  t big bulky bit slow loved email phone wanted something looked like regular phone blackberry functionality pearl dream come true sleek thin beautiful comfortable phone top quality reception even mp  player main appeal want blackberry email capabilities regular looking phone thing blackberry best international coverage gsm carriers better email system anywhere go world youve got email phone working problem pearl especially fast got intel  mhz processor much faster tmobile dash phones market keyboard takes getting used works quite well typing long emails think matter need computer long documents emails phone want something bulky want emails pile could quickly respond throughout day blackberry email easiest set works best fantastic fast phone overall let start listing problems phone owned month tonight text messages call logs deleted happened called tech support told take battery reboot phone called tonight reboot fave  contacts corrupted starters     show phone old number changed   days ago picture assigned contacts said known problem software gave phone information supposed try reinstall software see helps software glitches phone works great sound quality good easy type messages keypad got phone tmobile replacement sidekick iii using phone wasnt expecting much pleasantly surprised many options blackberry love pros think bit learning curve using features menus hidden applications easy find phones week comfortable using still learning everything offer call quality decent crackles every sound isnt crystal clear good complaints people talking gets much better reception home samsung ever know people complained keyboard personally love sure type good guesses words type without even looking phone doesnt guess word easy teach phone word many free downloads access themes menu download free games themes wallpapers tones email really easy set type address password ready receive emails like emails show two places mailbox test message folder gets crowded texts emails two accounts anybody know feature turn love set songs ringtones meaning never buy another   per tone help menu right phone find owners manual time need help something cons time loading applications slow time pictures changing themes map feature speaker quality could clearer listening music speaker phone bad overall great phone recommend anyone wants compact smart phone reading reviews people said phone freezes think maybe first phones came got mine christmas havent problems far love     stars pos march     anonymous see reviews pearl worst cell phones owned   years within first months trackball working inconsistently red callendpower button functioned half time headphone jack stopped working consistently takes   seconds phone recognize headset plugged sucks youre middle call sometimes doesnt work pos pro phone calendar contacts sync mac os add insult injury mobile customer service sucks   get good reviews sound cheerful phone act like care god forbid experience real problemhalf know a  elbow tech support takes hours literlly tech support rarely helps a elbow thing thought hated cingularat&t customer service switched mobile least cingular put compassionate facade dispense crappy service cut straight crappy service honestly best smart phone ive ever used everything blackberry normally usual efficiency camera fastest working camera ive ever used cell phone reception better even   loved deserve five stars flaws opening messages bit slower older blackberrys people want swap memory cards often take phone apart drawback rest doesnt matter video capture really miss pluss download files email accounts right device well files places web websites nearly level desktop iffy coverage areas picks network faster older models tip holding key message folder releasing seconds take oldest unread message'"
      ]
     },
     "execution_count": 21,
     "metadata": {},
     "output_type": "execute_result"
    }
   ],
   "source": [
    "df['Review'][200]"
   ]
  },
  {
   "cell_type": "code",
   "execution_count": 22,
   "metadata": {},
   "outputs": [
    {
     "data": {
      "text/plain": [
       "'great far charger seem last pretty good   years fits phones except iphone galaxy   phone still use right side portal judy charge bit slower charger goes tends loose fit firmly usb short charger awesome first wasnt expecting     arrived  so plus second kinda skeptical purchasing says galaxy blackberry mean lot things figured heck cheap loose well got today decided give try work galaxy s  charged       minutes yes timed cord long plus looking fast charger long cord mention great price update sure reviewer meant saying poor quality chargers ive mine little weeks still going strong love charger especially length saying sell universal charger sold blasted blackberry charger mad right cant believe excited waiting charger samsung battery charger got blackberry charger ever buy seller good say pretty much like travel chargers galaxy phone price best recommend getting charger literally phone samsung galaxy charging   hours fully charged charger ever bought sucks like buy works advertized charger woks wonderfully samsung galaxy s  chargers phone fast price great highly recommended product far problems charges fast need usb specified jus direct wall charger shipping time well packaged charges like champ definitely rapid charge galaxy   problems definite must phone happy teenager didnt work'"
      ]
     },
     "execution_count": 22,
     "metadata": {},
     "output_type": "execute_result"
    }
   ],
   "source": [
    "df['Review'][4]\n"
   ]
  },
  {
   "cell_type": "code",
   "execution_count": null,
   "metadata": {},
   "outputs": [],
   "source": []
  },
  {
   "cell_type": "code",
   "execution_count": null,
   "metadata": {},
   "outputs": [],
   "source": []
  },
  {
   "cell_type": "code",
   "execution_count": 23,
   "metadata": {},
   "outputs": [
    {
     "data": {
      "text/plain": [
       "0        4124\n",
       "1         615\n",
       "2        1088\n",
       "3         133\n",
       "4        1299\n",
       "         ... \n",
       "48128    1821\n",
       "48129    3103\n",
       "48130    2060\n",
       "48131     911\n",
       "48132     567\n",
       "Name: Review, Length: 48133, dtype: int64"
      ]
     },
     "execution_count": 23,
     "metadata": {},
     "output_type": "execute_result"
    }
   ],
   "source": [
    "df['Review'].str.len()"
   ]
  },
  {
   "cell_type": "code",
   "execution_count": 24,
   "metadata": {},
   "outputs": [
    {
     "name": "stdout",
     "output_type": "stream",
     "text": [
      "['good case low price right never problems besides losing stones since purchase rough recommend didnt get case thats shown picture case got black gold bow still cute wanted wanted picture teenage daughter loved case really pretty put stars look little cheap looking expect much bling want spend whole lot cash want great dealthis shop buy liked cute studs fall easily protect phone recommended buy like looks cute stones lasted long time really makes phone look lot prettier funnier hirl wants needs hello kitty products happy collection choose friends wants hello kitty phone cases thanks seller cute love thisone drop done thoughi dropped iton bathroom floor cracked item cute case cute looks good white iphone pretty good quality diamond fallen cos dropped cement kinda hard get whatever cute hot everyone compliments happy case pretty girly looking problem hard put case jeans pocket bow stick problem carry mine purse daughters put phones pockets shipping described cute case jewels come expect mine held pretty nicely lost stones barely noticeable got friend saw liked got liked looks good iphone fits well beautiful phone case hard remove  d ribbon came wasy darker picture shows came wonky pretty looks like actually bedazzled phone case better expected cute yes recommend case cutest case ive ever bought got today took really long timewhich weird cause took almost two months didnt care thought gonna fall apart didnt really held nicely thinking ordering ones come pink black really classy rich looking bucks go wrong girlyeven though like much stuff going onon cases perfect havent tried fitting pocket sooo definatley buy cute love bling love pink cute case get many compliments case soo super pretty case may look breakable sturdy super cute case looks cuter real life picture waiting get price received pretty great case received many compliments cute bow back looked like might fall   months nope strongly attached diamonds back amazed long stayed attached like   fallen bad fits nicely phone recommend dropping phone doesnt give protection impacts like \"look pretty phone\" kind case unfortunately replace case due crazy lifestyle throwing phone bags pockets plastic volume buttons started break definitely buy another put iphone special occasions love gorgeous arrived time get many compliments definitely girly case love beautiful quality outstanding product everyone compliments case thinks spent wayy wayy really love case plenty cases   favs kept case longer case sum stones fall give u extra ran extras changed da case another great product daughter use long time iphone  c transaction went well fast case extremely great deal color design perfect great going town case crystals fell nothing thats really didnt like soon saw liked stones argue price appearance looks like picture exception white jewels fall rather easily soooo cute got many complaints cover took gems bottom case since texting made hard awhile gems started peel offbut still looked cute used case couple weeks far great little blings stayed place sparkly cute product recommended anyone looking use gift family members thanks another love well happy phone cover get many compliments females phone wears used case even week bow came loved pretty wish stayed together really love case keep phone face time pretty good quality stones come normal use unless keep purse day gotten many compliments beautiful simple ive   months still looks brand new great deal keep buying worth wait happy happy happy happy happy cheap broke first time put pretty cheaply made bad cute case came time love design actually missing studs nothing noticeable studding almost bit sloppy around bow noticeable havent put phone yet ive notice far pretty  s cell phone case ans  d pretty thank rene ordered case daughter christmas got iphone christmas wanted really nice phone case different everybody iphone cases loved phone case moment opened package loved fact case came days earlier expected price amazing really cute  d iphone case purchased granddaughters phone loves unique quality cover good really pretty ive couple gems come comes glue easily fixable like']\n"
     ]
    }
   ],
   "source": [
    "#now let's make a corpus of this \n",
    "import re\n",
    "\n",
    "import gensim\n",
    "\n",
    "# Converts into tokens (Alternative to word_tokenize)\n",
    "from gensim.utils import simple_preprocess\n",
    "import re\n",
    "def sent_to_words(sentences):\n",
    "    for sent in sentences:\n",
    "        sent = re.sub('\\S*@\\S*\\s?', '', sent)  # remove emails\n",
    "        sent = re.sub('\\s+', ' ', sent)  # remove newline chars\n",
    "        sent = re.sub(\"\\'\", \"\", sent)  # remove single quotes\n",
    "        sent = gensim.utils.simple_preprocess(str(sent), deacc=True) \n",
    "        yield(sent)  \n",
    "\n",
    "# Convert to list\n",
    "data = df.Review.values.tolist()\n",
    "data_words = list(sent_to_words(data))\n",
    "print(data[:1])"
   ]
  },
  {
   "cell_type": "code",
   "execution_count": 25,
   "metadata": {},
   "outputs": [],
   "source": [
    "import gensim"
   ]
  },
  {
   "cell_type": "code",
   "execution_count": 26,
   "metadata": {},
   "outputs": [],
   "source": [
    "dictionary_review = gensim.corpora.Dictionary(data_words)"
   ]
  },
  {
   "cell_type": "code",
   "execution_count": 27,
   "metadata": {},
   "outputs": [
    {
     "name": "stdout",
     "output_type": "stream",
     "text": [
      "Dictionary(142968 unique tokens: ['actually', 'almost', 'amazed', 'amazing', 'another']...)\n"
     ]
    }
   ],
   "source": [
    "print(dictionary_review)\n"
   ]
  },
  {
   "cell_type": "code",
   "execution_count": 28,
   "metadata": {},
   "outputs": [],
   "source": [
    "def listToString(s):  \n",
    "    \n",
    "    # initialize an empty string \n",
    "    str1 = \" \" \n",
    "    \n",
    "    # return string   \n",
    "    return (str1.join(data)) \n",
    "texts=listToString(data)"
   ]
  },
  {
   "cell_type": "code",
   "execution_count": 29,
   "metadata": {},
   "outputs": [],
   "source": [
    "from nltk.tokenize import word_tokenize\n",
    "\n",
    "tokenized_word=word_tokenize(texts)"
   ]
  },
  {
   "cell_type": "code",
   "execution_count": 30,
   "metadata": {},
   "outputs": [],
   "source": [
    "from nltk.probability import FreqDist\n",
    "\n",
    "\n",
    "fdist = FreqDist(tokenized_word)"
   ]
  },
  {
   "cell_type": "markdown",
   "metadata": {},
   "source": [
    "# #fdist"
   ]
  },
  {
   "cell_type": "code",
   "execution_count": 31,
   "metadata": {},
   "outputs": [
    {
     "data": {
      "text/plain": [
       "[('phone', 466380),\n",
       " ('case', 425314),\n",
       " ('great', 219935),\n",
       " ('screen', 179726),\n",
       " ('good', 171521),\n",
       " ('like', 162315),\n",
       " ('well', 128903),\n",
       " ('product', 125649),\n",
       " ('use', 120436),\n",
       " ('love', 96761),\n",
       " ('works', 95469),\n",
       " ('get', 94644),\n",
       " ('nice', 89548),\n",
       " ('really', 87554),\n",
       " ('iphone', 86301),\n",
       " ('protector', 83788),\n",
       " ('battery', 79125),\n",
       " ('charge', 77793),\n",
       " ('time', 75470),\n",
       " ('fit', 75173)]"
      ]
     },
     "execution_count": 31,
     "metadata": {},
     "output_type": "execute_result"
    }
   ],
   "source": [
    "fdist.most_common(20)"
   ]
  },
  {
   "cell_type": "code",
   "execution_count": 32,
   "metadata": {},
   "outputs": [
    {
     "data": {
      "image/png": "[encoded data removed]",
      "text/plain": [
       "<Figure size 432x288 with 1 Axes>"
      ]
     },
     "metadata": {
      "needs_background": "light"
     },
     "output_type": "display_data"
    }
   ],
   "source": [
    "import matplotlib.pyplot as plt\n",
    "fdist.plot(30,cumulative=False)\n",
    "plt.show()"
   ]
  },
  {
   "cell_type": "markdown",
   "metadata": {},
   "source": [
    "# word cloud"
   ]
  },
  {
   "cell_type": "code",
   "execution_count": 33,
   "metadata": {},
   "outputs": [
    {
     "data": {
      "image/png": "[encoded data removed]",
      "text/plain": [
       "<Figure size 720x576 with 1 Axes>"
      ]
     },
     "metadata": {},
     "output_type": "display_data"
    }
   ],
   "source": [
    "from wordcloud import WordCloud\n",
    "\n",
    "\n",
    "review = df['Review']\n",
    "\n",
    "spam_cloud = WordCloud(width=700,height=500,background_color='white',max_words=100).generate(' '.join(review))\n",
    "\n",
    "plt.figure(figsize=(10,8),facecolor='r')\n",
    "plt.imshow(spam_cloud)\n",
    "plt.axis('off')\n",
    "plt.tight_layout(pad=0)\n",
    "plt.show()"
   ]
  },
  {
   "cell_type": "code",
   "execution_count": null,
   "metadata": {},
   "outputs": [],
   "source": []
  },
  {
   "cell_type": "markdown",
   "metadata": {},
   "source": [
    "# using gensim library we can generate keywords\n"
   ]
  },
  {
   "cell_type": "markdown",
   "metadata": {},
   "source": [
    "# I have choosen 22 words because the review are quit large whereass there are some reviews with shorter length too,so tried it with 22 words  so that gensim has enough data to generate summary keywords"
   ]
  },
  {
   "cell_type": "code",
   "execution_count": 35,
   "metadata": {},
   "outputs": [],
   "source": [
    "from gensim.summarization import keywords\n",
    "a = []\n",
    "\n",
    "for i in df['Review']:\n",
    "# this str is to just to add more data so that gensim summarizes it. These sentence add no value to summary.\n",
    "    i= i + str(\". This is second sentence. This is thirddthisisjusttoadddatasothatgenismsummarisesmydatathiswillnotputanyeffect\")             # this is to add two more sentences so that gensim summarizes it. These sentence add no value to summary.\n",
    "    a.append(keywords(i, words=22).split('\\n'))\n",
    "\n",
    "df['Summary'] = a"
   ]
  },
  {
   "cell_type": "code",
   "execution_count": 36,
   "metadata": {},
   "outputs": [
    {
     "data": {
      "text/html": [
       "<div>\n",
       "<style scoped>\n",
       "    .dataframe tbody tr th:only-of-type {\n",
       "        vertical-align: middle;\n",
       "    }\n",
       "\n",
       "    .dataframe tbody tr th {\n",
       "        vertical-align: top;\n",
       "    }\n",
       "\n",
       "    .dataframe thead th {\n",
       "        text-align: right;\n",
       "    }\n",
       "</style>\n",
       "<table border=\"1\" class=\"dataframe\">\n",
       "  <thead>\n",
       "    <tr style=\"text-align: right;\">\n",
       "      <th></th>\n",
       "      <th>IC</th>\n",
       "      <th>Review</th>\n",
       "      <th>Summary</th>\n",
       "    </tr>\n",
       "  </thead>\n",
       "  <tbody>\n",
       "    <tr>\n",
       "      <th>0</th>\n",
       "      <td>7508492919</td>\n",
       "      <td>good case low price right never problems besid...</td>\n",
       "      <td>[case, cases, look, looking, looked, pretty, c...</td>\n",
       "    </tr>\n",
       "    <tr>\n",
       "      <th>1</th>\n",
       "      <td>7532385086</td>\n",
       "      <td>excited first got case loved color feel starte...</td>\n",
       "      <td>[phone, case, cover, covers, rubber, rubberize...</td>\n",
       "    </tr>\n",
       "    <tr>\n",
       "      <th>2</th>\n",
       "      <td>7887421268</td>\n",
       "      <td>good item received weeks time nice actually co...</td>\n",
       "      <td>[case, phone, nice, good, product, great, look...</td>\n",
       "    </tr>\n",
       "    <tr>\n",
       "      <th>3</th>\n",
       "      <td>8199900164</td>\n",
       "      <td>thank works time charger stopped working days ...</td>\n",
       "      <td>[mind bought phone didnt work, thank works tim...</td>\n",
       "    </tr>\n",
       "    <tr>\n",
       "      <th>4</th>\n",
       "      <td>8288853439</td>\n",
       "      <td>great far charger seem last pretty good   year...</td>\n",
       "      <td>[chargers, great far charger, charge, charged,...</td>\n",
       "    </tr>\n",
       "  </tbody>\n",
       "</table>\n",
       "</div>"
      ],
      "text/plain": [
       "           IC                                             Review  \\\n",
       "0  7508492919  good case low price right never problems besid...   \n",
       "1  7532385086  excited first got case loved color feel starte...   \n",
       "2  7887421268  good item received weeks time nice actually co...   \n",
       "3  8199900164  thank works time charger stopped working days ...   \n",
       "4  8288853439  great far charger seem last pretty good   year...   \n",
       "\n",
       "                                             Summary  \n",
       "0  [case, cases, look, looking, looked, pretty, c...  \n",
       "1  [phone, case, cover, covers, rubber, rubberize...  \n",
       "2  [case, phone, nice, good, product, great, look...  \n",
       "3  [mind bought phone didnt work, thank works tim...  \n",
       "4  [chargers, great far charger, charge, charged,...  "
      ]
     },
     "execution_count": 36,
     "metadata": {},
     "output_type": "execute_result"
    }
   ],
   "source": [
    "df.head()"
   ]
  },
  {
   "cell_type": "code",
   "execution_count": 48,
   "metadata": {},
   "outputs": [
    {
     "data": {
      "text/plain": [
       "['chargers',\n",
       " 'great far charger',\n",
       " 'charge',\n",
       " 'charged',\n",
       " 'charging',\n",
       " 'galaxy phone',\n",
       " 'problems charges',\n",
       " 'says',\n",
       " 'saying',\n",
       " 'fits phones',\n",
       " 'fast',\n",
       " 'work',\n",
       " 'works',\n",
       " 'like',\n",
       " 'blackberry',\n",
       " 'price',\n",
       " 'samsung',\n",
       " 'expecting',\n",
       " 'usb',\n",
       " 'recommend',\n",
       " 'recommended',\n",
       " 'good',\n",
       " 'loose fit',\n",
       " 'plus second']"
      ]
     },
     "execution_count": 48,
     "metadata": {},
     "output_type": "execute_result"
    }
   ],
   "source": [
    "df['Summary'][4]# summarises that blackberry product recommened charging "
   ]
  },
  {
   "cell_type": "code",
   "execution_count": 38,
   "metadata": {},
   "outputs": [
    {
     "data": {
      "text/plain": [
       "['phone',\n",
       " 'charging',\n",
       " 'charge',\n",
       " 'case plug',\n",
       " 'battery',\n",
       " 'use',\n",
       " 'plugged',\n",
       " 'like',\n",
       " 'adds extra',\n",
       " 'carry',\n",
       " 'carrying',\n",
       " 'making feel',\n",
       " 'bit',\n",
       " 'great',\n",
       " 'makes',\n",
       " 'return',\n",
       " 'returned',\n",
       " 'light',\n",
       " 'lights',\n",
       " 'power',\n",
       " 'ive seen',\n",
       " 'looking',\n",
       " 'look',\n",
       " 'update',\n",
       " 'products',\n",
       " 'product']"
      ]
     },
     "execution_count": 38,
     "metadata": {},
     "output_type": "execute_result"
    }
   ],
   "source": [
    "df['Summary'][10]\n",
    "#can summarize the product is phone and has some charging issue "
   ]
  },
  {
   "cell_type": "markdown",
   "metadata": {},
   "source": [
    "# we have another approach that is to use RAKE which generates phrases /keywords\n",
    "#let's try that also \n",
    "#It's relatively a faster method too \n",
    "#but herein we will again reload our dataframe because for rake the data needs to be more meaningful so herein i'll just remove sings and symbols,the stopwords will be taken care automatically"
   ]
  },
  {
   "cell_type": "code",
   "execution_count": 46,
   "metadata": {},
   "outputs": [
    {
     "data": {
      "text/plain": [
       "['ear',\n",
       " 'ears',\n",
       " 'good',\n",
       " 'wear',\n",
       " 'wearing',\n",
       " 'wears',\n",
       " 'headphones',\n",
       " 'headphone',\n",
       " 'phone',\n",
       " 'music',\n",
       " 'got',\n",
       " 'called',\n",
       " 'calls',\n",
       " 'calling',\n",
       " 'sound',\n",
       " 'sounded',\n",
       " 'bit',\n",
       " 'samsung',\n",
       " 'laptop',\n",
       " 'getting',\n",
       " 'gets',\n",
       " 'works',\n",
       " 'work',\n",
       " 'worked',\n",
       " 'great',\n",
       " 'pieces',\n",
       " 'piece',\n",
       " 'bluetooth stereo',\n",
       " 'buttons',\n",
       " 'button',\n",
       " 'years',\n",
       " 'product',\n",
       " 'listen',\n",
       " 'listening']"
      ]
     },
     "execution_count": 46,
     "metadata": {},
     "output_type": "execute_result"
    }
   ],
   "source": [
    "df['Summary'][130]\n",
    "#we can clearly see with the summary that the product is headset as we have words call ear sound etc"
   ]
  },
  {
   "cell_type": "code",
   "execution_count": 47,
   "metadata": {},
   "outputs": [
    {
     "data": {
      "text/plain": [
       "'using product past   months bful awesome sound quality didnt found issue product easy configure connect works sony erricson w i walkman phone well laptop sound quality beats good distortion u move head   left ignorable bulky fit easily build mic good playing music call comes u atend headset volume adjustment overall good peace makes fully satisfied got looking wire hassle bought years ago still work well battery life good recharge week charged car volume adjusted easily like chat driving wonderful earphone cable connect pc directly listen music winter wonderful ear protection cold windy morning little bit heavier beginning man perfect daughters wear without holding word good product got headphones   years ago way anyone even know bluetooth stereo headphones ever since take everywhere yet give problems bluetooth things rock solid ive paired phone laptop time listening music controlling buttons ear pieces call came paused laptop music switched call talked bit hung button music automatically resumed theyre truly perfect called indestructible throw backpack laptop books time yet bent ruined anyway mine scratches way treat   years continuous use comfortable padding ear pieces started wear away con think wear headphones   consecutive hours feel pinching area ears band holds head however happens extended periods time ive looking another pair bluetooth stereo headphones since mine old getting worn yet find headphones look function well ive liked wear   minutes top ears head hurt willing put liked wireless aspect sounded good ear cushion great weight pushing rubber shark fin piece ears hurts recently laid work weekend guess laid incorrectly misshapen happens luck longer fit ears sound great longer fit think ear pieces heavy relies plastic headneck band piece maintain exact shape anyway disappointed buy model ability leave mp  music cell phone gym bag get serious workout without disruption worth price along call important miss important phone calls getting interrupted voice announcement whos calling makes worthwhile first use hooked weekday workouts bluetooth stereo headset weekends back zune dislike headphones need escape phone wearing mintues got blister swelling ears insulator hurt back ears bad notice blister don\"t know motorolla called themselve engineer don\"t need rocket scientist kind pads insulator protect skin got first tested samsung upstage cellphone great ordered another samsung blackjack att tiltit claims loving every minute even took myrtle beach listening music beach downside wears ear hour using ears gets bit uneasy bit concerned stereo vs cell phone feature got seconds happy came everything needed worked perfectly samsung rant go gym listen music cell phone yet never miss call purchased headphone local store pairing easy press big button left side till blue light bacomes solid run search pick motorola ht  enter passcode   options appear mda   official rom hands free wireless stereo sound pretty good problem good crowded enviornment lot hollow noise seldom skips mda'"
      ]
     },
     "execution_count": 47,
     "metadata": {},
     "output_type": "execute_result"
    }
   ],
   "source": [
    "df['Review'][130]"
   ]
  },
  {
   "cell_type": "code",
   "execution_count": 49,
   "metadata": {},
   "outputs": [
    {
     "data": {
      "text/plain": [
       "['holders',\n",
       " 'phone holder',\n",
       " 'vent',\n",
       " 'vents',\n",
       " 'mounts',\n",
       " 'mount',\n",
       " 'problem',\n",
       " 'times',\n",
       " 'otterbox',\n",
       " 'time working',\n",
       " 'work',\n",
       " 'works',\n",
       " 'adjustment',\n",
       " 'adjust',\n",
       " 'capacitive',\n",
       " 'car',\n",
       " 'cars',\n",
       " 'item',\n",
       " 'windshield problems',\n",
       " 'capacitance detection',\n",
       " 'touch',\n",
       " 'day',\n",
       " 'days',\n",
       " 'grab',\n",
       " 'detect',\n",
       " 'cost',\n",
       " 'broke',\n",
       " 'attached',\n",
       " 'yes',\n",
       " 'refund']"
      ]
     },
     "execution_count": 49,
     "metadata": {},
     "output_type": "execute_result"
    }
   ],
   "source": [
    "df['Summary'][150]# phone holder asking for refund windsheild problems "
   ]
  },
  {
   "cell_type": "code",
   "execution_count": null,
   "metadata": {},
   "outputs": [],
   "source": []
  },
  {
   "cell_type": "code",
   "execution_count": null,
   "metadata": {},
   "outputs": [],
   "source": []
  },
  {
   "cell_type": "code",
   "execution_count": null,
   "metadata": {},
   "outputs": [],
   "source": []
  },
  {
   "cell_type": "code",
   "execution_count": null,
   "metadata": {},
   "outputs": [],
   "source": []
  },
  {
   "cell_type": "code",
   "execution_count": null,
   "metadata": {},
   "outputs": [],
   "source": []
  },
  {
   "cell_type": "code",
   "execution_count": null,
   "metadata": {},
   "outputs": [],
   "source": []
  },
  {
   "cell_type": "code",
   "execution_count": null,
   "metadata": {},
   "outputs": [],
   "source": [
    "#we have another approach that is to use RAKE which generates phrases /keywords\n",
    "#let's try that also \n",
    "#It's relatively a faster method too \n",
    "#but herein we will again reload our dataframe because for rake the data needs to be more meaningful so herein i'll just remove sings and symbols,the stopwords will be taken care automatically"
   ]
  },
  {
   "cell_type": "code",
   "execution_count": 50,
   "metadata": {},
   "outputs": [],
   "source": [
    "\n",
    "df_alternate=pd.read_json(r'Cell_phones_and_Accessories.json')\n",
    "df_alternate.dropna(subset=['Review'], inplace=True)\n"
   ]
  },
  {
   "cell_type": "code",
   "execution_count": 51,
   "metadata": {},
   "outputs": [
    {
     "name": "stdout",
     "output_type": "stream",
     "text": [
      "               IC                                             Review\n",
      "0      7508492919  It is such a good case for a low price. I have...\n",
      "1      7532385086  I was very excited when I first got this case....\n",
      "2      7887421268  Good item,Received this in about a weeks time....\n",
      "3      8199900164  thank you.,Works some of the time.  The charge...\n",
      "4      8288853439  Great ! So far.\\nI had this charger before and...\n",
      "...           ...                                                ...\n",
      "48128  B01HJBS5C2  Strong, protective but slim and light. I am al...\n",
      "48129  B01HJC7N4C  my sons likes it. For the price it isn't too b...\n",
      "48130  B01HJCN1UC  great thanks,good cable. just be sure to know ...\n",
      "48131  B01HJCN55I  Received the cable in two days and it's the be...\n",
      "48132  B01HJH9IN6  Just received it and it's VERY thin. No need t...\n",
      "\n",
      "[48133 rows x 2 columns]\n"
     ]
    }
   ],
   "source": [
    "df_alternate = df_alternate.groupby('IC').agg({'Review': ','.join}).reset_index()\n",
    "print(df_alternate[['IC','Review']])"
   ]
  },
  {
   "cell_type": "code",
   "execution_count": 52,
   "metadata": {},
   "outputs": [],
   "source": [
    "df_alternate['Review'] = df_alternate['Review'].str.lower()"
   ]
  },
  {
   "cell_type": "code",
   "execution_count": 53,
   "metadata": {},
   "outputs": [],
   "source": [
    "df_alternate[\"Review\"] = df_alternate[\"Review\"].str.replace(\",\",\"\").astype(str)\n",
    "df_alternate[\"Review\"] = df_alternate[\"Review\"].str.replace(\"/\",\"\").astype(str)\n",
    "df_alternate[\"Review\"] = df_alternate[\"Review\"].str.replace(\":\",\"\").astype(str)\n",
    "df_alternate[\"Review\"] = df_alternate[\"Review\"].str.replace(\"'\",\"\").astype(str)\n",
    "df_alternate[\"Review\"] = df_alternate[\"Review\"].str.replace(\"!\",\"\").astype(str)\n",
    "df_alternate[\"Review\"] = df_alternate[\"Review\"].str.replace(\"\\\\\",\"\").astype(str)\n",
    "df_alternate[\"Review\"] = df_alternate[\"Review\"].str.replace(\".\",\"\").astype(str)\n",
    "df_alternate[\"Review\"] = df_alternate[\"Review\"].str.replace(\"%\",\"\").astype(str)\n",
    "df_alternate[\"Review\"] = df_alternate[\"Review\"].str.replace(\"-\",\"\").astype(str)\n",
    "df_alternate[\"Review\"] = df_alternate[\"Review\"].str.replace(\"+\",\"\").astype(str)\n",
    "df_alternate[\"Review\"] = df_alternate[\"Review\"].str.replace(\"=\",\"\").astype(str)\n",
    "df_alternate[\"Review\"] = df_alternate[\"Review\"].str.replace(\";\",\"\").astype(str)\n",
    "df_alternate[\"Review\"] = df_alternate[\"Review\"].str.replace(\")\",\"\").astype(str)\n",
    "df_alternate[\"Review\"] = df_alternate[\"Review\"].str.replace(\"(\",\"\").astype(str)\n",
    "df_alternate[\"Review\"] = df_alternate[\"Review\"].str.replace(\"?\",\"\").astype(str)\n",
    "df_alternate[\"Review\"] = df_alternate[\"Review\"].str.replace(\"lol\",\"\").astype(str)\n"
   ]
  },
  {
   "cell_type": "code",
   "execution_count": null,
   "metadata": {},
   "outputs": [],
   "source": []
  },
  {
   "cell_type": "code",
   "execution_count": 65,
   "metadata": {},
   "outputs": [
    {
     "name": "stdout",
     "output_type": "stream",
     "text": [
      "Requirement already satisfied: rake-nltk in c:\\users\\comp\\.conda\\envs\\tensorflow\\lib\\site-packages (1.0.4)\n",
      "Requirement already satisfied: nltk in c:\\users\\comp\\.conda\\envs\\tensorflow\\lib\\site-packages (from rake-nltk) (3.5)\n",
      "Requirement already satisfied: regex in c:\\users\\comp\\.conda\\envs\\tensorflow\\lib\\site-packages (from nltk->rake-nltk) (2020.7.14)\n",
      "Requirement already satisfied: joblib in c:\\users\\comp\\.conda\\envs\\tensorflow\\lib\\site-packages (from nltk->rake-nltk) (0.16.0)\n",
      "Requirement already satisfied: tqdm in c:\\users\\comp\\.conda\\envs\\tensorflow\\lib\\site-packages (from nltk->rake-nltk) (4.48.2)\n",
      "Requirement already satisfied: click in c:\\users\\comp\\.conda\\envs\\tensorflow\\lib\\site-packages (from nltk->rake-nltk) (7.1.2)\n",
      "0        [weird cause, strongly attached, simple ive, r...\n",
      "1        [would recommend, soft rubberized, slight issu...\n",
      "2        [wont give, weeks time, put onsimple, protecte...\n",
      "3        [thank youworks, stopped working, doesnt work,...\n",
      "4        [wasnt expecting, sucks like, still use, speci...\n",
      "                               ...                        \n",
      "48128    [volume controls, video screen, top cover, str...\n",
      "48129    [well manufactured, well made, vitalas enjoyin...\n",
      "48130    [works well, well packaged, usb cable, past ye...\n",
      "48131    [working within, well care, two days, price im...\n",
      "48132    [would survive, package cause, mesh allow, loo...\n",
      "Name: keywords, Length: 48133, dtype: object\n"
     ]
    }
   ],
   "source": [
    "!pip install rake-nltk\n",
    "import pandas as pd\n",
    "from  rake_nltk import Rake  \n",
    "\n",
    "r = Rake(min_length=1, max_length=2)    \n",
    "\n",
    "\n",
    "\n",
    "def rake_implement(x,r):\n",
    "     r.extract_keywords_from_text(x)\n",
    "     return r.get_ranked_phrases()\n",
    "\n",
    "df_alternate['keywords'] =df_alternate['Review'].apply(lambda x: rake_implement(x,r))\n",
    "print(df_alternate['keywords'])"
   ]
  },
  {
   "cell_type": "code",
   "execution_count": 55,
   "metadata": {},
   "outputs": [
    {
     "data": {
      "text/html": [
       "<div>\n",
       "<style scoped>\n",
       "    .dataframe tbody tr th:only-of-type {\n",
       "        vertical-align: middle;\n",
       "    }\n",
       "\n",
       "    .dataframe tbody tr th {\n",
       "        vertical-align: top;\n",
       "    }\n",
       "\n",
       "    .dataframe thead th {\n",
       "        text-align: right;\n",
       "    }\n",
       "</style>\n",
       "<table border=\"1\" class=\"dataframe\">\n",
       "  <thead>\n",
       "    <tr style=\"text-align: right;\">\n",
       "      <th></th>\n",
       "      <th>IC</th>\n",
       "      <th>Review</th>\n",
       "      <th>keywords</th>\n",
       "    </tr>\n",
       "  </thead>\n",
       "  <tbody>\n",
       "    <tr>\n",
       "      <th>0</th>\n",
       "      <td>7508492919</td>\n",
       "      <td>it is such a good case for a low price i have ...</td>\n",
       "      <td>[weird cause, strongly attached, simple ive, r...</td>\n",
       "    </tr>\n",
       "    <tr>\n",
       "      <th>1</th>\n",
       "      <td>7532385086</td>\n",
       "      <td>i was very excited when i first got this case ...</td>\n",
       "      <td>[would recommend, soft rubberized, slight issu...</td>\n",
       "    </tr>\n",
       "    <tr>\n",
       "      <th>2</th>\n",
       "      <td>7887421268</td>\n",
       "      <td>good itemreceived this in about a weeks time v...</td>\n",
       "      <td>[wont give, weeks time, put onsimple, protecte...</td>\n",
       "    </tr>\n",
       "    <tr>\n",
       "      <th>3</th>\n",
       "      <td>8199900164</td>\n",
       "      <td>thank youworks some of the time  the charger h...</td>\n",
       "      <td>[thank youworks, stopped working, doesnt work,...</td>\n",
       "    </tr>\n",
       "    <tr>\n",
       "      <th>4</th>\n",
       "      <td>8288853439</td>\n",
       "      <td>great  so far\\ni had this charger before and i...</td>\n",
       "      <td>[wasnt expecting, sucks like, still use, speci...</td>\n",
       "    </tr>\n",
       "  </tbody>\n",
       "</table>\n",
       "</div>"
      ],
      "text/plain": [
       "           IC                                             Review  \\\n",
       "0  7508492919  it is such a good case for a low price i have ...   \n",
       "1  7532385086  i was very excited when i first got this case ...   \n",
       "2  7887421268  good itemreceived this in about a weeks time v...   \n",
       "3  8199900164  thank youworks some of the time  the charger h...   \n",
       "4  8288853439  great  so far\\ni had this charger before and i...   \n",
       "\n",
       "                                            keywords  \n",
       "0  [weird cause, strongly attached, simple ive, r...  \n",
       "1  [would recommend, soft rubberized, slight issu...  \n",
       "2  [wont give, weeks time, put onsimple, protecte...  \n",
       "3  [thank youworks, stopped working, doesnt work,...  \n",
       "4  [wasnt expecting, sucks like, still use, speci...  "
      ]
     },
     "execution_count": 55,
     "metadata": {},
     "output_type": "execute_result"
    }
   ],
   "source": [
    "df_alternate.head()"
   ]
  },
  {
   "cell_type": "code",
   "execution_count": 57,
   "metadata": {},
   "outputs": [
    {
     "data": {
      "text/plain": [
       "['yeari needed',\n",
       " 'would order',\n",
       " 'would allow',\n",
       " 'works perfectly',\n",
       " 'original packaging',\n",
       " 'note 4',\n",
       " 'functions perfectly',\n",
       " 'droid x',\n",
       " 'continue working',\n",
       " 'company made',\n",
       " 'cant seem',\n",
       " 'stock charger',\n",
       " 'backup charger',\n",
       " 'new one',\n",
       " 'long thin',\n",
       " 'doesnt get',\n",
       " 'charging base',\n",
       " 'charger',\n",
       " 'one',\n",
       " 'long',\n",
       " 'get',\n",
       " 'charging',\n",
       " 'base',\n",
       " 'worked',\n",
       " 'well',\n",
       " 'waythe',\n",
       " 'wall',\n",
       " 'used',\n",
       " 'use',\n",
       " 'twice',\n",
       " 'total',\n",
       " 'together',\n",
       " 'taped',\n",
       " 'take',\n",
       " 'straighten',\n",
       " 'replace',\n",
       " 'problems',\n",
       " 'plugged',\n",
       " 'phone',\n",
       " 'perfect',\n",
       " 'noticed',\n",
       " 'meant',\n",
       " 'maybe',\n",
       " 'job',\n",
       " 'inoperable',\n",
       " 'got',\n",
       " 'flexible',\n",
       " 'fast',\n",
       " 'directly',\n",
       " 'difference',\n",
       " 'cosmetic',\n",
       " 'cord',\n",
       " 'completely',\n",
       " 'comes',\n",
       " 'chages',\n",
       " 'came']"
      ]
     },
     "execution_count": 57,
     "metadata": {},
     "output_type": "execute_result"
    }
   ],
   "source": [
    "df_alternate['keywords'][6]\n",
    "#talking about note 4"
   ]
  },
  {
   "cell_type": "code",
   "execution_count": 66,
   "metadata": {},
   "outputs": [
    {
     "data": {
      "text/plain": [
       "['volume louder',\n",
       " 'vibrate feature',\n",
       " 'verizon rep',\n",
       " 'various presses',\n",
       " 'usb charger',\n",
       " 'two devices',\n",
       " 'top comfort',\n",
       " 'thing die',\n",
       " 'sweet spot',\n",
       " 'safe method',\n",
       " 'plus side',\n",
       " 'plantronics 320',\n",
       " 'perfect line',\n",
       " 'people winding',\n",
       " 'pairup process',\n",
       " 'multifunction button',\n",
       " 'money earpiece',\n",
       " 'microphone however',\n",
       " 'microphone audio',\n",
       " 'maximizes comfort',\n",
       " 'main button',\n",
       " 'main body',\n",
       " 'long periods',\n",
       " 'lg vx9800',\n",
       " 'lets consider',\n",
       " 'kept seeing',\n",
       " 'ill probably',\n",
       " 'hellohello hello',\n",
       " 'forcing us',\n",
       " 'every aspect',\n",
       " 'emergency vehicles',\n",
       " 'drove home',\n",
       " 'doesnt take',\n",
       " 'dials people',\n",
       " 'definite progress',\n",
       " 'day reception',\n",
       " 'constantly turning',\n",
       " 'confuses people',\n",
       " 'clear winner',\n",
       " 'blue strobe',\n",
       " 'blackberry curve',\n",
       " 'bit awkward',\n",
       " 'also hit',\n",
       " 'also allows',\n",
       " 'right ear',\n",
       " 'jabra headset',\n",
       " 'headset however',\n",
       " 'either ear',\n",
       " 'eargreat headset',\n",
       " 'ear hook',\n",
       " 'ear canal',\n",
       " 'start pairing',\n",
       " 'sound typically',\n",
       " 'sound quality',\n",
       " 'sound loud',\n",
       " 'lg8100 pairing',\n",
       " 'dont wait',\n",
       " 'dont let',\n",
       " 'comfort pairing',\n",
       " 'cant take',\n",
       " 'cant speak',\n",
       " 'works like',\n",
       " 'usually leave',\n",
       " 'usually clear',\n",
       " 'pretty good',\n",
       " 'phone recognized',\n",
       " 'hear reports',\n",
       " 'great choice',\n",
       " 'cell phone',\n",
       " 'call accept',\n",
       " 'automatically call',\n",
       " 'almost never',\n",
       " 'wear glasses',\n",
       " 'volume buttons',\n",
       " 'top area',\n",
       " 'relatively easy',\n",
       " 'record typicall',\n",
       " 'problem even',\n",
       " 'operate handsfree',\n",
       " 'new phones',\n",
       " 'jabra bt350',\n",
       " 'hs850 ease',\n",
       " 'headsetmy wife',\n",
       " 'finally figured',\n",
       " 'ear like',\n",
       " 'course dependent',\n",
       " 'could charge',\n",
       " 'close proximity',\n",
       " 'button flashes',\n",
       " 'battery life',\n",
       " 'always flashing',\n",
       " 'also found',\n",
       " 'actually using',\n",
       " '34 feet',\n",
       " 'cant hear',\n",
       " 'headset turned',\n",
       " 'headset connected',\n",
       " 'dont work',\n",
       " 'well try',\n",
       " 'ive never',\n",
       " 'great since',\n",
       " 'good speaker',\n",
       " 'first try',\n",
       " 'use less',\n",
       " 'headset',\n",
       " 'ear',\n",
       " 'sound',\n",
       " 'pairing',\n",
       " 'dont',\n",
       " 'cant',\n",
       " 'usually',\n",
       " 'try',\n",
       " 'phone',\n",
       " 'never',\n",
       " 'like',\n",
       " 'hear',\n",
       " 'great',\n",
       " 'good',\n",
       " 'call',\n",
       " 'work',\n",
       " 'wife',\n",
       " 'well',\n",
       " 'wear',\n",
       " 'using',\n",
       " 'use',\n",
       " 'turned',\n",
       " 'speaker',\n",
       " 'since',\n",
       " 'record',\n",
       " 'problem',\n",
       " 'phones',\n",
       " 'less',\n",
       " 'ive',\n",
       " 'hs850',\n",
       " 'handsfree',\n",
       " 'found',\n",
       " 'flashing',\n",
       " 'flashes',\n",
       " 'first',\n",
       " 'finally',\n",
       " 'feet',\n",
       " 'easy',\n",
       " 'course',\n",
       " 'connected',\n",
       " 'close',\n",
       " 'charge',\n",
       " 'buttons',\n",
       " 'bt350',\n",
       " 'battery',\n",
       " 'area',\n",
       " 'years',\n",
       " 'windows',\n",
       " 'week',\n",
       " 'wearing',\n",
       " 'wanted',\n",
       " 'uses',\n",
       " 'used',\n",
       " 'turns',\n",
       " 'turn',\n",
       " 'trying',\n",
       " 'treo650',\n",
       " 'took',\n",
       " 'tmobile',\n",
       " 'time',\n",
       " 'three',\n",
       " 'though',\n",
       " 'think',\n",
       " 'terms',\n",
       " 'synced',\n",
       " 'surface',\n",
       " 'superb',\n",
       " 'suggestion',\n",
       " 'straightforward',\n",
       " 'stop',\n",
       " 'spoken',\n",
       " 'something',\n",
       " 'simple',\n",
       " 'similar',\n",
       " 'sight',\n",
       " 'shouldnt',\n",
       " 'set',\n",
       " 'series',\n",
       " 'seems',\n",
       " 'see',\n",
       " 'saying',\n",
       " 'satisfied',\n",
       " 'run',\n",
       " 'reviews',\n",
       " 'rests',\n",
       " 'resetting',\n",
       " 'reported',\n",
       " 'report',\n",
       " 'replacement',\n",
       " 'repeat',\n",
       " 'reflection',\n",
       " 'reference',\n",
       " 'redialing',\n",
       " 'recorded',\n",
       " 'recharge',\n",
       " 'really',\n",
       " 'raised',\n",
       " 'question',\n",
       " 'put',\n",
       " 'purse',\n",
       " 'purchased',\n",
       " 'problems',\n",
       " 'powered',\n",
       " 'position',\n",
       " 'placement',\n",
       " 'person',\n",
       " 'past',\n",
       " 'party',\n",
       " 'pair',\n",
       " 'outstanding',\n",
       " 'outside',\n",
       " 'opposed',\n",
       " 'opportunity',\n",
       " 'one',\n",
       " 'ok',\n",
       " 'often',\n",
       " 'occassions',\n",
       " 'night',\n",
       " 'need',\n",
       " 'necessity',\n",
       " 'name',\n",
       " 'must',\n",
       " 'manual',\n",
       " 'lot',\n",
       " 'look',\n",
       " 'lightweight',\n",
       " 'laptop',\n",
       " 'key',\n",
       " 'jx10',\n",
       " 'issue',\n",
       " 'intent',\n",
       " 'instructions',\n",
       " 'inside',\n",
       " 'important',\n",
       " 'holding',\n",
       " 'hold',\n",
       " 'headsets',\n",
       " 'head',\n",
       " 'hangup',\n",
       " 'got',\n",
       " 'gone',\n",
       " 'go',\n",
       " 'functions',\n",
       " 'followed',\n",
       " 'flush',\n",
       " 'flipped',\n",
       " 'flash',\n",
       " 'figure',\n",
       " 'fake',\n",
       " 'eye',\n",
       " 'experience',\n",
       " 'end',\n",
       " 'echo',\n",
       " 'due',\n",
       " 'driving',\n",
       " 'draining',\n",
       " 'disturbing',\n",
       " 'disconnect',\n",
       " 'device',\n",
       " 'desirei',\n",
       " 'design',\n",
       " 'dark',\n",
       " 'couple',\n",
       " 'corner',\n",
       " 'contributes',\n",
       " 'connect',\n",
       " 'comparing',\n",
       " 'communicating',\n",
       " 'comes',\n",
       " 'charm',\n",
       " 'cause',\n",
       " 'cases',\n",
       " 'case',\n",
       " 'buy',\n",
       " 'bt250v',\n",
       " 'bought',\n",
       " 'basically',\n",
       " 'appears',\n",
       " 'answer',\n",
       " 'annoying',\n",
       " 'amassed',\n",
       " 'adjusting',\n",
       " 'adjust',\n",
       " 'addition',\n",
       " 'ac',\n",
       " 'able',\n",
       " '99']"
      ]
     },
     "execution_count": 66,
     "metadata": {},
     "output_type": "execute_result"
    }
   ],
   "source": [
    "df_alternate['keywords'][98]"
   ]
  },
  {
   "cell_type": "code",
   "execution_count": 67,
   "metadata": {},
   "outputs": [
    {
     "data": {
      "text/plain": [
       "['works well',\n",
       " 'wont hurt',\n",
       " 'well worth',\n",
       " 'usually plug',\n",
       " 'standard port',\n",
       " 'significant interference',\n",
       " 'quick however',\n",
       " 'purchased 2',\n",
       " 'okfinally tried',\n",
       " 'much current',\n",
       " 'made well',\n",
       " 'impressed ive',\n",
       " 'goodthis device',\n",
       " 'good instructions',\n",
       " 'friend needs',\n",
       " 'fast charging',\n",
       " 'everything usb',\n",
       " 'equipment basically',\n",
       " 'engine noise',\n",
       " 'dual chargers',\n",
       " 'bluetooth receiver',\n",
       " 'bestperfect size',\n",
       " '70 percent',\n",
       " '57 percent',\n",
       " 'phone said',\n",
       " 'phone needs',\n",
       " 'new phone',\n",
       " 'thw car',\n",
       " 'charging use',\n",
       " 'cable away',\n",
       " 'phone',\n",
       " 'use',\n",
       " 'car',\n",
       " 'cable',\n",
       " 'whine',\n",
       " 'way',\n",
       " 'today',\n",
       " 'step',\n",
       " 'speakers',\n",
       " 'shifter',\n",
       " 'settled',\n",
       " 'price',\n",
       " 'pizza',\n",
       " 'output',\n",
       " 'one',\n",
       " 'moneyworks',\n",
       " 'lots',\n",
       " 'jack',\n",
       " 'hear',\n",
       " 'half',\n",
       " 'great',\n",
       " 'get',\n",
       " 'gas',\n",
       " 'fine',\n",
       " 'far',\n",
       " 'electronic',\n",
       " 'detects',\n",
       " 'concerned',\n",
       " 'comes',\n",
       " 'charged',\n",
       " 'adjusts']"
      ]
     },
     "execution_count": 67,
     "metadata": {},
     "output_type": "execute_result"
    }
   ],
   "source": [
    "df_alternate['keywords'][40000]"
   ]
  },
  {
   "cell_type": "code",
   "execution_count": null,
   "metadata": {},
   "outputs": [],
   "source": [
    "#the only issue with rake keywords is that a huge amount of words are generated as compared to genism library summary"
   ]
  },
  {
   "cell_type": "code",
   "execution_count": null,
   "metadata": {},
   "outputs": [],
   "source": [
    "# so ill save the summary column to my final output(as i have there limited words generated summary (ie 22 words))"
   ]
  },
  {
   "cell_type": "code",
   "execution_count": null,
   "metadata": {},
   "outputs": [],
   "source": []
  },
  {
   "cell_type": "code",
   "execution_count": null,
   "metadata": {},
   "outputs": [],
   "source": []
  },
  {
   "cell_type": "markdown",
   "metadata": {},
   "source": [
    "# to calculate average rating,minimum rating,maximum rating using groupby and min max mean functions"
   ]
  },
  {
   "cell_type": "code",
   "execution_count": 68,
   "metadata": {},
   "outputs": [],
   "source": [
    "import pandas as pd\n",
    "rating_df=pd.read_json(r'Cell_phones_and_Accessories.json')"
   ]
  },
  {
   "cell_type": "code",
   "execution_count": 69,
   "metadata": {},
   "outputs": [
    {
     "data": {
      "text/html": [
       "<div>\n",
       "<style scoped>\n",
       "    .dataframe tbody tr th:only-of-type {\n",
       "        vertical-align: middle;\n",
       "    }\n",
       "\n",
       "    .dataframe tbody tr th {\n",
       "        vertical-align: top;\n",
       "    }\n",
       "\n",
       "    .dataframe thead th {\n",
       "        text-align: right;\n",
       "    }\n",
       "</style>\n",
       "<table border=\"1\" class=\"dataframe\">\n",
       "  <thead>\n",
       "    <tr style=\"text-align: right;\">\n",
       "      <th></th>\n",
       "      <th>IC</th>\n",
       "      <th>AVG Rating</th>\n",
       "    </tr>\n",
       "  </thead>\n",
       "  <tbody>\n",
       "    <tr>\n",
       "      <th>0</th>\n",
       "      <td>7508492919</td>\n",
       "      <td>4.300000</td>\n",
       "    </tr>\n",
       "    <tr>\n",
       "      <th>1</th>\n",
       "      <td>7532385086</td>\n",
       "      <td>3.285714</td>\n",
       "    </tr>\n",
       "    <tr>\n",
       "      <th>2</th>\n",
       "      <td>7887421268</td>\n",
       "      <td>3.538462</td>\n",
       "    </tr>\n",
       "    <tr>\n",
       "      <th>3</th>\n",
       "      <td>8199900164</td>\n",
       "      <td>3.750000</td>\n",
       "    </tr>\n",
       "    <tr>\n",
       "      <th>4</th>\n",
       "      <td>8288853439</td>\n",
       "      <td>3.818182</td>\n",
       "    </tr>\n",
       "    <tr>\n",
       "      <th>5</th>\n",
       "      <td>8288862993</td>\n",
       "      <td>3.656250</td>\n",
       "    </tr>\n",
       "    <tr>\n",
       "      <th>6</th>\n",
       "      <td>828886922X</td>\n",
       "      <td>4.333333</td>\n",
       "    </tr>\n",
       "    <tr>\n",
       "      <th>7</th>\n",
       "      <td>8288878881</td>\n",
       "      <td>3.977273</td>\n",
       "    </tr>\n",
       "    <tr>\n",
       "      <th>8</th>\n",
       "      <td>9578085451</td>\n",
       "      <td>4.250000</td>\n",
       "    </tr>\n",
       "    <tr>\n",
       "      <th>9</th>\n",
       "      <td>961301375X</td>\n",
       "      <td>3.923077</td>\n",
       "    </tr>\n",
       "  </tbody>\n",
       "</table>\n",
       "</div>"
      ],
      "text/plain": [
       "           IC  AVG Rating\n",
       "0  7508492919    4.300000\n",
       "1  7532385086    3.285714\n",
       "2  7887421268    3.538462\n",
       "3  8199900164    3.750000\n",
       "4  8288853439    3.818182\n",
       "5  8288862993    3.656250\n",
       "6  828886922X    4.333333\n",
       "7  8288878881    3.977273\n",
       "8  9578085451    4.250000\n",
       "9  961301375X    3.923077"
      ]
     },
     "execution_count": 69,
     "metadata": {},
     "output_type": "execute_result"
    }
   ],
   "source": [
    "df2= rating_df.groupby(['IC']).agg({'Rating': 'mean'}).reset_index()\n",
    "df2.rename(columns={'Rating':'AVG Rating'},inplace=True)\n",
    "df2.head(10)"
   ]
  },
  {
   "cell_type": "code",
   "execution_count": 70,
   "metadata": {},
   "outputs": [
    {
     "data": {
      "text/html": [
       "<div>\n",
       "<style scoped>\n",
       "    .dataframe tbody tr th:only-of-type {\n",
       "        vertical-align: middle;\n",
       "    }\n",
       "\n",
       "    .dataframe tbody tr th {\n",
       "        vertical-align: top;\n",
       "    }\n",
       "\n",
       "    .dataframe thead th {\n",
       "        text-align: right;\n",
       "    }\n",
       "</style>\n",
       "<table border=\"1\" class=\"dataframe\">\n",
       "  <thead>\n",
       "    <tr style=\"text-align: right;\">\n",
       "      <th></th>\n",
       "      <th>IC</th>\n",
       "      <th>MAX Rating</th>\n",
       "    </tr>\n",
       "  </thead>\n",
       "  <tbody>\n",
       "    <tr>\n",
       "      <th>0</th>\n",
       "      <td>7508492919</td>\n",
       "      <td>5</td>\n",
       "    </tr>\n",
       "    <tr>\n",
       "      <th>1</th>\n",
       "      <td>7532385086</td>\n",
       "      <td>5</td>\n",
       "    </tr>\n",
       "    <tr>\n",
       "      <th>2</th>\n",
       "      <td>7887421268</td>\n",
       "      <td>5</td>\n",
       "    </tr>\n",
       "    <tr>\n",
       "      <th>3</th>\n",
       "      <td>8199900164</td>\n",
       "      <td>5</td>\n",
       "    </tr>\n",
       "    <tr>\n",
       "      <th>4</th>\n",
       "      <td>8288853439</td>\n",
       "      <td>5</td>\n",
       "    </tr>\n",
       "    <tr>\n",
       "      <th>5</th>\n",
       "      <td>8288862993</td>\n",
       "      <td>5</td>\n",
       "    </tr>\n",
       "    <tr>\n",
       "      <th>6</th>\n",
       "      <td>828886922X</td>\n",
       "      <td>5</td>\n",
       "    </tr>\n",
       "    <tr>\n",
       "      <th>7</th>\n",
       "      <td>8288878881</td>\n",
       "      <td>5</td>\n",
       "    </tr>\n",
       "    <tr>\n",
       "      <th>8</th>\n",
       "      <td>9578085451</td>\n",
       "      <td>5</td>\n",
       "    </tr>\n",
       "    <tr>\n",
       "      <th>9</th>\n",
       "      <td>961301375X</td>\n",
       "      <td>5</td>\n",
       "    </tr>\n",
       "  </tbody>\n",
       "</table>\n",
       "</div>"
      ],
      "text/plain": [
       "           IC  MAX Rating\n",
       "0  7508492919           5\n",
       "1  7532385086           5\n",
       "2  7887421268           5\n",
       "3  8199900164           5\n",
       "4  8288853439           5\n",
       "5  8288862993           5\n",
       "6  828886922X           5\n",
       "7  8288878881           5\n",
       "8  9578085451           5\n",
       "9  961301375X           5"
      ]
     },
     "execution_count": 70,
     "metadata": {},
     "output_type": "execute_result"
    }
   ],
   "source": [
    "df3=rating_df.groupby(['IC']).agg({'Rating':'max'}).reset_index()\n",
    "df3.rename(columns={'Rating':'MAX Rating'},inplace=True)\n",
    "df3.head(10)"
   ]
  },
  {
   "cell_type": "code",
   "execution_count": 71,
   "metadata": {},
   "outputs": [
    {
     "data": {
      "text/html": [
       "<div>\n",
       "<style scoped>\n",
       "    .dataframe tbody tr th:only-of-type {\n",
       "        vertical-align: middle;\n",
       "    }\n",
       "\n",
       "    .dataframe tbody tr th {\n",
       "        vertical-align: top;\n",
       "    }\n",
       "\n",
       "    .dataframe thead th {\n",
       "        text-align: right;\n",
       "    }\n",
       "</style>\n",
       "<table border=\"1\" class=\"dataframe\">\n",
       "  <thead>\n",
       "    <tr style=\"text-align: right;\">\n",
       "      <th></th>\n",
       "      <th>IC</th>\n",
       "      <th>MIN Rating</th>\n",
       "    </tr>\n",
       "  </thead>\n",
       "  <tbody>\n",
       "    <tr>\n",
       "      <th>0</th>\n",
       "      <td>7508492919</td>\n",
       "      <td>1</td>\n",
       "    </tr>\n",
       "    <tr>\n",
       "      <th>1</th>\n",
       "      <td>7532385086</td>\n",
       "      <td>1</td>\n",
       "    </tr>\n",
       "    <tr>\n",
       "      <th>2</th>\n",
       "      <td>7887421268</td>\n",
       "      <td>1</td>\n",
       "    </tr>\n",
       "    <tr>\n",
       "      <th>3</th>\n",
       "      <td>8199900164</td>\n",
       "      <td>2</td>\n",
       "    </tr>\n",
       "    <tr>\n",
       "      <th>4</th>\n",
       "      <td>8288853439</td>\n",
       "      <td>1</td>\n",
       "    </tr>\n",
       "    <tr>\n",
       "      <th>5</th>\n",
       "      <td>8288862993</td>\n",
       "      <td>1</td>\n",
       "    </tr>\n",
       "    <tr>\n",
       "      <th>6</th>\n",
       "      <td>828886922X</td>\n",
       "      <td>3</td>\n",
       "    </tr>\n",
       "    <tr>\n",
       "      <th>7</th>\n",
       "      <td>8288878881</td>\n",
       "      <td>1</td>\n",
       "    </tr>\n",
       "    <tr>\n",
       "      <th>8</th>\n",
       "      <td>9578085451</td>\n",
       "      <td>3</td>\n",
       "    </tr>\n",
       "    <tr>\n",
       "      <th>9</th>\n",
       "      <td>961301375X</td>\n",
       "      <td>1</td>\n",
       "    </tr>\n",
       "  </tbody>\n",
       "</table>\n",
       "</div>"
      ],
      "text/plain": [
       "           IC  MIN Rating\n",
       "0  7508492919           1\n",
       "1  7532385086           1\n",
       "2  7887421268           1\n",
       "3  8199900164           2\n",
       "4  8288853439           1\n",
       "5  8288862993           1\n",
       "6  828886922X           3\n",
       "7  8288878881           1\n",
       "8  9578085451           3\n",
       "9  961301375X           1"
      ]
     },
     "execution_count": 71,
     "metadata": {},
     "output_type": "execute_result"
    }
   ],
   "source": [
    "df4=rating_df.groupby(['IC']).agg({'Rating':'min'}).reset_index()\n",
    "df4.rename(columns={'Rating':'MIN Rating'},inplace=True)\n",
    "df4.head(10)"
   ]
  },
  {
   "cell_type": "code",
   "execution_count": 72,
   "metadata": {},
   "outputs": [
    {
     "data": {
      "text/html": [
       "<div>\n",
       "<style scoped>\n",
       "    .dataframe tbody tr th:only-of-type {\n",
       "        vertical-align: middle;\n",
       "    }\n",
       "\n",
       "    .dataframe tbody tr th {\n",
       "        vertical-align: top;\n",
       "    }\n",
       "\n",
       "    .dataframe thead th {\n",
       "        text-align: right;\n",
       "    }\n",
       "</style>\n",
       "<table border=\"1\" class=\"dataframe\">\n",
       "  <thead>\n",
       "    <tr style=\"text-align: right;\">\n",
       "      <th></th>\n",
       "      <th>IC</th>\n",
       "      <th>AVG Rating</th>\n",
       "      <th>MAX Rating</th>\n",
       "      <th>MIN Rating</th>\n",
       "    </tr>\n",
       "  </thead>\n",
       "  <tbody>\n",
       "    <tr>\n",
       "      <th>0</th>\n",
       "      <td>7508492919</td>\n",
       "      <td>4.300000</td>\n",
       "      <td>5</td>\n",
       "      <td>1</td>\n",
       "    </tr>\n",
       "    <tr>\n",
       "      <th>1</th>\n",
       "      <td>7532385086</td>\n",
       "      <td>3.285714</td>\n",
       "      <td>5</td>\n",
       "      <td>1</td>\n",
       "    </tr>\n",
       "    <tr>\n",
       "      <th>2</th>\n",
       "      <td>7887421268</td>\n",
       "      <td>3.538462</td>\n",
       "      <td>5</td>\n",
       "      <td>1</td>\n",
       "    </tr>\n",
       "    <tr>\n",
       "      <th>3</th>\n",
       "      <td>8199900164</td>\n",
       "      <td>3.750000</td>\n",
       "      <td>5</td>\n",
       "      <td>2</td>\n",
       "    </tr>\n",
       "    <tr>\n",
       "      <th>4</th>\n",
       "      <td>8288853439</td>\n",
       "      <td>3.818182</td>\n",
       "      <td>5</td>\n",
       "      <td>1</td>\n",
       "    </tr>\n",
       "    <tr>\n",
       "      <th>5</th>\n",
       "      <td>8288862993</td>\n",
       "      <td>3.656250</td>\n",
       "      <td>5</td>\n",
       "      <td>1</td>\n",
       "    </tr>\n",
       "    <tr>\n",
       "      <th>6</th>\n",
       "      <td>828886922X</td>\n",
       "      <td>4.333333</td>\n",
       "      <td>5</td>\n",
       "      <td>3</td>\n",
       "    </tr>\n",
       "    <tr>\n",
       "      <th>7</th>\n",
       "      <td>8288878881</td>\n",
       "      <td>3.977273</td>\n",
       "      <td>5</td>\n",
       "      <td>1</td>\n",
       "    </tr>\n",
       "    <tr>\n",
       "      <th>8</th>\n",
       "      <td>9578085451</td>\n",
       "      <td>4.250000</td>\n",
       "      <td>5</td>\n",
       "      <td>3</td>\n",
       "    </tr>\n",
       "    <tr>\n",
       "      <th>9</th>\n",
       "      <td>961301375X</td>\n",
       "      <td>3.923077</td>\n",
       "      <td>5</td>\n",
       "      <td>1</td>\n",
       "    </tr>\n",
       "  </tbody>\n",
       "</table>\n",
       "</div>"
      ],
      "text/plain": [
       "           IC  AVG Rating  MAX Rating  MIN Rating\n",
       "0  7508492919    4.300000           5           1\n",
       "1  7532385086    3.285714           5           1\n",
       "2  7887421268    3.538462           5           1\n",
       "3  8199900164    3.750000           5           2\n",
       "4  8288853439    3.818182           5           1\n",
       "5  8288862993    3.656250           5           1\n",
       "6  828886922X    4.333333           5           3\n",
       "7  8288878881    3.977273           5           1\n",
       "8  9578085451    4.250000           5           3\n",
       "9  961301375X    3.923077           5           1"
      ]
     },
     "execution_count": 72,
     "metadata": {},
     "output_type": "execute_result"
    }
   ],
   "source": [
    "final_df=pd.merge((pd.merge(df2, df3,how='inner',on=['IC'])),df4,how='inner',on='IC')\n",
    "final_df.head(10)\n"
   ]
  },
  {
   "cell_type": "code",
   "execution_count": 80,
   "metadata": {},
   "outputs": [
    {
     "data": {
      "text/html": [
       "<div>\n",
       "<style scoped>\n",
       "    .dataframe tbody tr th:only-of-type {\n",
       "        vertical-align: middle;\n",
       "    }\n",
       "\n",
       "    .dataframe tbody tr th {\n",
       "        vertical-align: top;\n",
       "    }\n",
       "\n",
       "    .dataframe thead th {\n",
       "        text-align: right;\n",
       "    }\n",
       "</style>\n",
       "<table border=\"1\" class=\"dataframe\">\n",
       "  <thead>\n",
       "    <tr style=\"text-align: right;\">\n",
       "      <th></th>\n",
       "      <th>IC</th>\n",
       "      <th>AVG Rating</th>\n",
       "      <th>MAX Rating</th>\n",
       "      <th>MIN Rating</th>\n",
       "      <th>Review</th>\n",
       "      <th>Summary</th>\n",
       "    </tr>\n",
       "  </thead>\n",
       "  <tbody>\n",
       "    <tr>\n",
       "      <th>0</th>\n",
       "      <td>7508492919</td>\n",
       "      <td>4.300000</td>\n",
       "      <td>5</td>\n",
       "      <td>1</td>\n",
       "      <td>good case low price right never problems besid...</td>\n",
       "      <td>[case, cases, look, looking, looked, pretty, c...</td>\n",
       "    </tr>\n",
       "    <tr>\n",
       "      <th>1</th>\n",
       "      <td>7532385086</td>\n",
       "      <td>3.285714</td>\n",
       "      <td>5</td>\n",
       "      <td>1</td>\n",
       "      <td>excited first got case loved color feel starte...</td>\n",
       "      <td>[phone, case, cover, covers, rubber, rubberize...</td>\n",
       "    </tr>\n",
       "    <tr>\n",
       "      <th>2</th>\n",
       "      <td>7887421268</td>\n",
       "      <td>3.538462</td>\n",
       "      <td>5</td>\n",
       "      <td>1</td>\n",
       "      <td>good item received weeks time nice actually co...</td>\n",
       "      <td>[case, phone, nice, good, product, great, look...</td>\n",
       "    </tr>\n",
       "    <tr>\n",
       "      <th>3</th>\n",
       "      <td>8199900164</td>\n",
       "      <td>3.750000</td>\n",
       "      <td>5</td>\n",
       "      <td>2</td>\n",
       "      <td>thank works time charger stopped working days ...</td>\n",
       "      <td>[mind bought phone didnt work, thank works tim...</td>\n",
       "    </tr>\n",
       "    <tr>\n",
       "      <th>4</th>\n",
       "      <td>8288853439</td>\n",
       "      <td>3.818182</td>\n",
       "      <td>5</td>\n",
       "      <td>1</td>\n",
       "      <td>great far charger seem last pretty good   year...</td>\n",
       "      <td>[chargers, great far charger, charge, charged,...</td>\n",
       "    </tr>\n",
       "  </tbody>\n",
       "</table>\n",
       "</div>"
      ],
      "text/plain": [
       "           IC  AVG Rating  MAX Rating  MIN Rating  \\\n",
       "0  7508492919    4.300000           5           1   \n",
       "1  7532385086    3.285714           5           1   \n",
       "2  7887421268    3.538462           5           1   \n",
       "3  8199900164    3.750000           5           2   \n",
       "4  8288853439    3.818182           5           1   \n",
       "\n",
       "                                              Review  \\\n",
       "0  good case low price right never problems besid...   \n",
       "1  excited first got case loved color feel starte...   \n",
       "2  good item received weeks time nice actually co...   \n",
       "3  thank works time charger stopped working days ...   \n",
       "4  great far charger seem last pretty good   year...   \n",
       "\n",
       "                                             Summary  \n",
       "0  [case, cases, look, looking, looked, pretty, c...  \n",
       "1  [phone, case, cover, covers, rubber, rubberize...  \n",
       "2  [case, phone, nice, good, product, great, look...  \n",
       "3  [mind bought phone didnt work, thank works tim...  \n",
       "4  [chargers, great far charger, charge, charged,...  "
      ]
     },
     "execution_count": 80,
     "metadata": {},
     "output_type": "execute_result"
    }
   ],
   "source": [
    "output_df=pd.merge(final_df, df, on='IC')\n",
    "output_df.head()"
   ]
  },
  {
   "cell_type": "code",
   "execution_count": 81,
   "metadata": {},
   "outputs": [
    {
     "data": {
      "text/html": [
       "<div>\n",
       "<style scoped>\n",
       "    .dataframe tbody tr th:only-of-type {\n",
       "        vertical-align: middle;\n",
       "    }\n",
       "\n",
       "    .dataframe tbody tr th {\n",
       "        vertical-align: top;\n",
       "    }\n",
       "\n",
       "    .dataframe thead th {\n",
       "        text-align: right;\n",
       "    }\n",
       "</style>\n",
       "<table border=\"1\" class=\"dataframe\">\n",
       "  <thead>\n",
       "    <tr style=\"text-align: right;\">\n",
       "      <th></th>\n",
       "      <th>IC</th>\n",
       "      <th>AVG Rating</th>\n",
       "      <th>MAX Rating</th>\n",
       "      <th>MIN Rating</th>\n",
       "      <th>Review</th>\n",
       "      <th>Summary</th>\n",
       "    </tr>\n",
       "  </thead>\n",
       "  <tbody>\n",
       "    <tr>\n",
       "      <th>48128</th>\n",
       "      <td>B01HJBS5C2</td>\n",
       "      <td>3.250000</td>\n",
       "      <td>5</td>\n",
       "      <td>1</td>\n",
       "      <td>strong protective slim light already ordering ...</td>\n",
       "      <td>[casing, phone, protect, protected, protects, ...</td>\n",
       "    </tr>\n",
       "    <tr>\n",
       "      <th>48129</th>\n",
       "      <td>B01HJC7N4C</td>\n",
       "      <td>4.600000</td>\n",
       "      <td>5</td>\n",
       "      <td>3</td>\n",
       "      <td>sons likes price isnt bad recently received fr...</td>\n",
       "      <td>[phone headset, apps, app, device, phones, adj...</td>\n",
       "    </tr>\n",
       "    <tr>\n",
       "      <th>48130</th>\n",
       "      <td>B01HJCN1UC</td>\n",
       "      <td>4.727273</td>\n",
       "      <td>5</td>\n",
       "      <td>4</td>\n",
       "      <td>great thanks good cable sure know length longe...</td>\n",
       "      <td>[cords, kindle, kindles, good cable, need long...</td>\n",
       "    </tr>\n",
       "    <tr>\n",
       "      <th>48131</th>\n",
       "      <td>B01HJCN55I</td>\n",
       "      <td>4.454545</td>\n",
       "      <td>5</td>\n",
       "      <td>2</td>\n",
       "      <td>received cable two days best  ft cable recharg...</td>\n",
       "      <td>[charged, charges, great price, time, cable, c...</td>\n",
       "    </tr>\n",
       "    <tr>\n",
       "      <th>48132</th>\n",
       "      <td>B01HJH9IN6</td>\n",
       "      <td>2.833333</td>\n",
       "      <td>5</td>\n",
       "      <td>1</td>\n",
       "      <td>received thin need put \"max protection\" packag...</td>\n",
       "      <td>[cases, cool case, phone, style nice, cracked,...</td>\n",
       "    </tr>\n",
       "  </tbody>\n",
       "</table>\n",
       "</div>"
      ],
      "text/plain": [
       "               IC  AVG Rating  MAX Rating  MIN Rating  \\\n",
       "48128  B01HJBS5C2    3.250000           5           1   \n",
       "48129  B01HJC7N4C    4.600000           5           3   \n",
       "48130  B01HJCN1UC    4.727273           5           4   \n",
       "48131  B01HJCN55I    4.454545           5           2   \n",
       "48132  B01HJH9IN6    2.833333           5           1   \n",
       "\n",
       "                                                  Review  \\\n",
       "48128  strong protective slim light already ordering ...   \n",
       "48129  sons likes price isnt bad recently received fr...   \n",
       "48130  great thanks good cable sure know length longe...   \n",
       "48131  received cable two days best  ft cable recharg...   \n",
       "48132  received thin need put \"max protection\" packag...   \n",
       "\n",
       "                                                 Summary  \n",
       "48128  [casing, phone, protect, protected, protects, ...  \n",
       "48129  [phone headset, apps, app, device, phones, adj...  \n",
       "48130  [cords, kindle, kindles, good cable, need long...  \n",
       "48131  [charged, charges, great price, time, cable, c...  \n",
       "48132  [cases, cool case, phone, style nice, cracked,...  "
      ]
     },
     "execution_count": 81,
     "metadata": {},
     "output_type": "execute_result"
    }
   ],
   "source": [
    "output_df.tail()"
   ]
  },
  {
   "cell_type": "code",
   "execution_count": null,
   "metadata": {},
   "outputs": [],
   "source": []
  },
  {
   "cell_type": "code",
   "execution_count": null,
   "metadata": {},
   "outputs": [],
   "source": []
  },
  {
   "cell_type": "code",
   "execution_count": null,
   "metadata": {},
   "outputs": [],
   "source": []
  },
  {
   "cell_type": "code",
   "execution_count": 82,
   "metadata": {},
   "outputs": [],
   "source": [
    "output_df.to_json(r'C:\\Users\\COMP\\project_nlp\\Output_DataFrame.json')"
   ]
  },
  {
   "cell_type": "code",
   "execution_count": null,
   "metadata": {},
   "outputs": [],
   "source": []
  },
  {
   "cell_type": "code",
   "execution_count": null,
   "metadata": {},
   "outputs": [],
   "source": [
    "#my trained model in this case is the dataframe only for the purpose of summary i took review and ic data\n",
    "#for the purpose of rating i took ratng and ic data\n",
    "#thereby saving the respective dataframes  in json format"
   ]
  },
  {
   "cell_type": "code",
   "execution_count": null,
   "metadata": {},
   "outputs": [],
   "source": []
  },
  {
   "cell_type": "code",
   "execution_count": 87,
   "metadata": {},
   "outputs": [],
   "source": [
    "train_df=df"
   ]
  },
  {
   "cell_type": "code",
   "execution_count": 88,
   "metadata": {},
   "outputs": [
    {
     "data": {
      "text/html": [
       "<div>\n",
       "<style scoped>\n",
       "    .dataframe tbody tr th:only-of-type {\n",
       "        vertical-align: middle;\n",
       "    }\n",
       "\n",
       "    .dataframe tbody tr th {\n",
       "        vertical-align: top;\n",
       "    }\n",
       "\n",
       "    .dataframe thead th {\n",
       "        text-align: right;\n",
       "    }\n",
       "</style>\n",
       "<table border=\"1\" class=\"dataframe\">\n",
       "  <thead>\n",
       "    <tr style=\"text-align: right;\">\n",
       "      <th></th>\n",
       "      <th>IC</th>\n",
       "      <th>Review</th>\n",
       "    </tr>\n",
       "  </thead>\n",
       "  <tbody>\n",
       "    <tr>\n",
       "      <th>0</th>\n",
       "      <td>7508492919</td>\n",
       "      <td>good case low price right never problems besid...</td>\n",
       "    </tr>\n",
       "    <tr>\n",
       "      <th>1</th>\n",
       "      <td>7532385086</td>\n",
       "      <td>excited first got case loved color feel starte...</td>\n",
       "    </tr>\n",
       "    <tr>\n",
       "      <th>2</th>\n",
       "      <td>7887421268</td>\n",
       "      <td>good item received weeks time nice actually co...</td>\n",
       "    </tr>\n",
       "    <tr>\n",
       "      <th>3</th>\n",
       "      <td>8199900164</td>\n",
       "      <td>thank works time charger stopped working days ...</td>\n",
       "    </tr>\n",
       "    <tr>\n",
       "      <th>4</th>\n",
       "      <td>8288853439</td>\n",
       "      <td>great far charger seem last pretty good   year...</td>\n",
       "    </tr>\n",
       "  </tbody>\n",
       "</table>\n",
       "</div>"
      ],
      "text/plain": [
       "           IC                                             Review\n",
       "0  7508492919  good case low price right never problems besid...\n",
       "1  7532385086  excited first got case loved color feel starte...\n",
       "2  7887421268  good item received weeks time nice actually co...\n",
       "3  8199900164  thank works time charger stopped working days ...\n",
       "4  8288853439  great far charger seem last pretty good   year..."
      ]
     },
     "execution_count": 88,
     "metadata": {},
     "output_type": "execute_result"
    }
   ],
   "source": [
    "train_df.head()"
   ]
  },
  {
   "cell_type": "code",
   "execution_count": null,
   "metadata": {},
   "outputs": [],
   "source": [
    "#THIS is my cleaned dataframe used for generating keywords and making a loop over this to generate keywords using genism library"
   ]
  },
  {
   "cell_type": "code",
   "execution_count": 89,
   "metadata": {},
   "outputs": [],
   "source": [
    "train_df.to_json(r'C:\\Users\\COMP\\project_nlp\\train_DataFrame.json')"
   ]
  },
  {
   "cell_type": "markdown",
   "metadata": {},
   "source": [
    "# lets have a final look at the output with 48133 unique IC and summary and avg,min and max rating for each review for every particular product"
   ]
  },
  {
   "cell_type": "code",
   "execution_count": 92,
   "metadata": {},
   "outputs": [
    {
     "data": {
      "text/html": [
       "<div>\n",
       "<style scoped>\n",
       "    .dataframe tbody tr th:only-of-type {\n",
       "        vertical-align: middle;\n",
       "    }\n",
       "\n",
       "    .dataframe tbody tr th {\n",
       "        vertical-align: top;\n",
       "    }\n",
       "\n",
       "    .dataframe thead th {\n",
       "        text-align: right;\n",
       "    }\n",
       "</style>\n",
       "<table border=\"1\" class=\"dataframe\">\n",
       "  <thead>\n",
       "    <tr style=\"text-align: right;\">\n",
       "      <th></th>\n",
       "      <th>IC</th>\n",
       "      <th>AVG Rating</th>\n",
       "      <th>MAX Rating</th>\n",
       "      <th>MIN Rating</th>\n",
       "      <th>Review</th>\n",
       "      <th>Summary</th>\n",
       "    </tr>\n",
       "  </thead>\n",
       "  <tbody>\n",
       "    <tr>\n",
       "      <th>0</th>\n",
       "      <td>7508492919</td>\n",
       "      <td>4.300000</td>\n",
       "      <td>5</td>\n",
       "      <td>1</td>\n",
       "      <td>good case low price right never problems besid...</td>\n",
       "      <td>[case, cases, look, looking, looked, pretty, c...</td>\n",
       "    </tr>\n",
       "    <tr>\n",
       "      <th>1</th>\n",
       "      <td>7532385086</td>\n",
       "      <td>3.285714</td>\n",
       "      <td>5</td>\n",
       "      <td>1</td>\n",
       "      <td>excited first got case loved color feel starte...</td>\n",
       "      <td>[phone, case, cover, covers, rubber, rubberize...</td>\n",
       "    </tr>\n",
       "    <tr>\n",
       "      <th>2</th>\n",
       "      <td>7887421268</td>\n",
       "      <td>3.538462</td>\n",
       "      <td>5</td>\n",
       "      <td>1</td>\n",
       "      <td>good item received weeks time nice actually co...</td>\n",
       "      <td>[case, phone, nice, good, product, great, look...</td>\n",
       "    </tr>\n",
       "    <tr>\n",
       "      <th>3</th>\n",
       "      <td>8199900164</td>\n",
       "      <td>3.750000</td>\n",
       "      <td>5</td>\n",
       "      <td>2</td>\n",
       "      <td>thank works time charger stopped working days ...</td>\n",
       "      <td>[mind bought phone didnt work, thank works tim...</td>\n",
       "    </tr>\n",
       "    <tr>\n",
       "      <th>4</th>\n",
       "      <td>8288853439</td>\n",
       "      <td>3.818182</td>\n",
       "      <td>5</td>\n",
       "      <td>1</td>\n",
       "      <td>great far charger seem last pretty good   year...</td>\n",
       "      <td>[chargers, great far charger, charge, charged,...</td>\n",
       "    </tr>\n",
       "  </tbody>\n",
       "</table>\n",
       "</div>"
      ],
      "text/plain": [
       "           IC  AVG Rating  MAX Rating  MIN Rating  \\\n",
       "0  7508492919    4.300000           5           1   \n",
       "1  7532385086    3.285714           5           1   \n",
       "2  7887421268    3.538462           5           1   \n",
       "3  8199900164    3.750000           5           2   \n",
       "4  8288853439    3.818182           5           1   \n",
       "\n",
       "                                              Review  \\\n",
       "0  good case low price right never problems besid...   \n",
       "1  excited first got case loved color feel starte...   \n",
       "2  good item received weeks time nice actually co...   \n",
       "3  thank works time charger stopped working days ...   \n",
       "4  great far charger seem last pretty good   year...   \n",
       "\n",
       "                                             Summary  \n",
       "0  [case, cases, look, looking, looked, pretty, c...  \n",
       "1  [phone, case, cover, covers, rubber, rubberize...  \n",
       "2  [case, phone, nice, good, product, great, look...  \n",
       "3  [mind bought phone didnt work, thank works tim...  \n",
       "4  [chargers, great far charger, charge, charged,...  "
      ]
     },
     "execution_count": 92,
     "metadata": {},
     "output_type": "execute_result"
    }
   ],
   "source": [
    "output_df.head()"
   ]
  },
  {
   "cell_type": "code",
   "execution_count": null,
   "metadata": {},
   "outputs": [],
   "source": []
  },
  {
   "cell_type": "code",
   "execution_count": null,
   "metadata": {},
   "outputs": [],
   "source": []
  }
 ],
 "metadata": {
  "kernelspec": {
   "display_name": "Python 3",
   "language": "python",
   "name": "python3"
  },
  "language_info": {
   "codemirror_mode": {
    "name": "ipython",
    "version": 3
   },
   "file_extension": ".py",
   "mimetype": "text/x-python",
   "name": "python",
   "nbconvert_exporter": "python",
   "pygments_lexer": "ipython3",
   "version": "3.7.7"
  }
 },
 "nbformat": 4,
 "nbformat_minor": 4
}
